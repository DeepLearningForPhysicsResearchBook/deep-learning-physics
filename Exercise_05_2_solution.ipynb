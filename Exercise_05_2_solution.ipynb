{
 "cells": [
  {
   "cell_type": "markdown",
   "metadata": {},
   "source": [
    "# Exercise 5.2 - Solution\n",
    "## Interpolation\n",
    "In this task, we implement a simple NN to learn a complicated function."
   ]
  },
  {
   "cell_type": "code",
   "execution_count": 2,
   "metadata": {},
   "outputs": [],
   "source": [
    "import numpy as np\n",
    "from tensorflow import keras\n",
    "import matplotlib.pyplot as plt\n",
    "\n",
    "layers = keras.layers"
   ]
  },
  {
   "cell_type": "markdown",
   "metadata": {},
   "source": [
    "### Generation of data"
   ]
  },
  {
   "cell_type": "code",
   "execution_count": 2,
   "metadata": {},
   "outputs": [],
   "source": [
    "def some_complicated_function(x):\n",
    "    return (\n",
    "        (np.abs(x)) ** 0.5\n",
    "        + 0.1 * x\n",
    "        + 0.01 * x ** 2\n",
    "        + 1\n",
    "        - np.sin(x)\n",
    "        + 0.5 * np.exp(x / 10.0)\n",
    "        ) / (0.5 + np.abs(np.cos(x)))"
   ]
  },
  {
   "cell_type": "markdown",
   "metadata": {},
   "source": [
    "Let's simulate the train data"
   ]
  },
  {
   "cell_type": "code",
   "execution_count": 3,
   "metadata": {},
   "outputs": [],
   "source": [
    "N_train = 10 ** 4  # number of training samples\n",
    "# Note: \"[:, np.newaxis]\" reshapes array to (N,1) as required by our DNN (we input one feature per sample)\n",
    "xtrain = np.random.uniform(-10, 10, N_train)[:, np.newaxis]\n",
    "ytrain = some_complicated_function(xtrain) + np.random.randn(xtrain.shape[0])  # train data includes some noise"
   ]
  },
  {
   "cell_type": "code",
   "execution_count": 4,
   "metadata": {},
   "outputs": [
    {
     "name": "stdout",
     "output_type": "stream",
     "text": [
      "xtrain.shape (10000, 1)\n",
      "ytrain.shape (10000, 10000)\n"
     ]
    }
   ],
   "source": [
    "print(\"xtrain.shape\", xtrain.shape)\n",
    "print(\"ytrain.shape\", ytrain.shape)"
   ]
  },
  {
   "cell_type": "markdown",
   "metadata": {},
   "source": [
    "Simulate test data"
   ]
  },
  {
   "cell_type": "code",
   "execution_count": 5,
   "metadata": {},
   "outputs": [],
   "source": [
    "N_test = 10000  # number of testing samples\n",
    "xtest = np.linspace(-10, 10, N_test)\n",
    "ytest = some_complicated_function(xtest)"
   ]
  },
  {
   "cell_type": "code",
   "execution_count": 6,
   "metadata": {},
   "outputs": [
    {
     "name": "stdout",
     "output_type": "stream",
     "text": [
      "xtest.shape (10000,)\n",
      "ytest.shape (10000,)\n"
     ]
    }
   ],
   "source": [
    "print(\"xtest.shape\", xtest.shape)\n",
    "print(\"ytest.shape\", ytest.shape)"
   ]
  },
  {
   "cell_type": "markdown",
   "metadata": {},
   "source": [
    "### Define Model\n",
    "\n",
    "In this case, we make use of a simple network with 5 layers. As activation function the ReLU is used. We further add parameter norm penalties (L1 and L2) as regularization strategy."
   ]
  },
  {
   "cell_type": "code",
   "execution_count": 7,
   "metadata": {},
   "outputs": [
    {
     "name": "stdout",
     "output_type": "stream",
     "text": [
      "Model: \"1Dfit\"\n",
      "_________________________________________________________________\n",
      "Layer (type)                 Output Shape              Param #   \n",
      "=================================================================\n",
      "dense (Dense)                (None, 32)                64        \n",
      "_________________________________________________________________\n",
      "dense_1 (Dense)              (None, 32)                1056      \n",
      "_________________________________________________________________\n",
      "dense_2 (Dense)              (None, 32)                1056      \n",
      "_________________________________________________________________\n",
      "dense_3 (Dense)              (None, 32)                1056      \n",
      "_________________________________________________________________\n",
      "dense_4 (Dense)              (None, 1)                 33        \n",
      "=================================================================\n",
      "Total params: 3,265\n",
      "Trainable params: 3,265\n",
      "Non-trainable params: 0\n",
      "_________________________________________________________________\n",
      "None\n"
     ]
    }
   ],
   "source": [
    "nb_nodes = 32\n",
    "nb_layers = 4\n",
    "activation = \"relu\"\n",
    "reg_strategy = keras.regularizers.l1_l2(l1=0.01, l2=0.01)  # use L1 and L2 regularization\n",
    "\n",
    "model = keras.models.Sequential(name=\"1Dfit\")\n",
    "model.add(layers.Dense(nb_nodes, activation=activation, kernel_regularizer=reg_strategy,\n",
    "                       input_dim=xtrain.shape[1]))\n",
    "\n",
    "for i in range(nb_layers - 1):\n",
    "    model.add(layers.Dense(nb_nodes, activation=activation, kernel_regularizer=reg_strategy))\n",
    "\n",
    "model.add(layers.Dense(1))\n",
    "\n",
    "print(model.summary())"
   ]
  },
  {
   "cell_type": "markdown",
   "metadata": {},
   "source": [
    "### Compile the model (set an objective and choose an optimizer)"
   ]
  },
  {
   "cell_type": "code",
   "execution_count": 8,
   "metadata": {},
   "outputs": [],
   "source": [
    "adam = keras.optimizers.Adam(lr=0.001)  # learning rate = 0.001\n",
    "model.compile(loss=\"MeanSquaredError\", optimizer=adam)"
   ]
  },
  {
   "cell_type": "markdown",
   "metadata": {},
   "source": [
    "### Train the model"
   ]
  },
  {
   "cell_type": "code",
   "execution_count": 9,
   "metadata": {
    "scrolled": true
   },
   "outputs": [
    {
     "name": "stdout",
     "output_type": "stream",
     "text": [
      "Epoch 1/100\n",
      "157/157 [==============================] - 1s 5ms/step - loss: 15.2431\n",
      "Epoch 2/100\n",
      "157/157 [==============================] - 1s 5ms/step - loss: 6.8571\n",
      "Epoch 3/100\n",
      "157/157 [==============================] - 1s 5ms/step - loss: 5.8455\n",
      "Epoch 4/100\n",
      "157/157 [==============================] - 1s 5ms/step - loss: 5.3997\n",
      "Epoch 5/100\n",
      "157/157 [==============================] - 1s 5ms/step - loss: 5.0038\n",
      "Epoch 6/100\n",
      "157/157 [==============================] - 1s 5ms/step - loss: 4.6660\n",
      "Epoch 7/100\n",
      "157/157 [==============================] - 1s 5ms/step - loss: 4.5469\n",
      "Epoch 8/100\n",
      "157/157 [==============================] - 1s 4ms/step - loss: 4.3841\n",
      "Epoch 9/100\n",
      "157/157 [==============================] - 1s 4ms/step - loss: 4.2089\n",
      "Epoch 10/100\n",
      "157/157 [==============================] - 1s 4ms/step - loss: 4.0169\n",
      "Epoch 11/100\n",
      "157/157 [==============================] - 1s 4ms/step - loss: 3.9143\n",
      "Epoch 12/100\n",
      "157/157 [==============================] - 1s 4ms/step - loss: 3.7840\n",
      "Epoch 13/100\n",
      "157/157 [==============================] - 1s 4ms/step - loss: 3.8204\n",
      "Epoch 14/100\n",
      "157/157 [==============================] - 1s 4ms/step - loss: 3.6407\n",
      "Epoch 15/100\n",
      "157/157 [==============================] - 1s 4ms/step - loss: 3.5697\n",
      "Epoch 16/100\n",
      "157/157 [==============================] - 1s 4ms/step - loss: 3.5290\n",
      "Epoch 17/100\n",
      "157/157 [==============================] - 1s 4ms/step - loss: 3.5095\n",
      "Epoch 18/100\n",
      "157/157 [==============================] - 1s 4ms/step - loss: 3.4352\n",
      "Epoch 19/100\n",
      "157/157 [==============================] - 1s 4ms/step - loss: 3.3327\n",
      "Epoch 20/100\n",
      "157/157 [==============================] - 1s 4ms/step - loss: 3.3706\n",
      "Epoch 21/100\n",
      "157/157 [==============================] - 1s 4ms/step - loss: 3.3128\n",
      "Epoch 22/100\n",
      "157/157 [==============================] - 1s 4ms/step - loss: 3.3145\n",
      "Epoch 23/100\n",
      "157/157 [==============================] - 1s 4ms/step - loss: 3.2287\n",
      "Epoch 24/100\n",
      "157/157 [==============================] - 1s 4ms/step - loss: 3.1591\n",
      "Epoch 25/100\n",
      "157/157 [==============================] - 1s 4ms/step - loss: 3.2557\n",
      "Epoch 26/100\n",
      "157/157 [==============================] - 1s 4ms/step - loss: 3.2274\n",
      "Epoch 27/100\n",
      "157/157 [==============================] - 1s 4ms/step - loss: 3.1732\n",
      "Epoch 28/100\n",
      "157/157 [==============================] - 1s 4ms/step - loss: 3.1343\n",
      "Epoch 29/100\n",
      "157/157 [==============================] - 1s 4ms/step - loss: 3.1498\n",
      "Epoch 30/100\n",
      "157/157 [==============================] - 1s 4ms/step - loss: 3.1352\n",
      "Epoch 31/100\n",
      "157/157 [==============================] - 1s 4ms/step - loss: 3.0498\n",
      "Epoch 32/100\n",
      "157/157 [==============================] - 1s 4ms/step - loss: 3.0276\n",
      "Epoch 33/100\n",
      "157/157 [==============================] - 1s 4ms/step - loss: 3.0969\n",
      "Epoch 34/100\n",
      "157/157 [==============================] - 1s 4ms/step - loss: 3.1399\n",
      "Epoch 35/100\n",
      "157/157 [==============================] - 1s 4ms/step - loss: 3.0425\n",
      "Epoch 36/100\n",
      "157/157 [==============================] - 1s 5ms/step - loss: 3.1180\n",
      "Epoch 37/100\n",
      "157/157 [==============================] - 1s 5ms/step - loss: 3.1092\n",
      "Epoch 38/100\n",
      "157/157 [==============================] - 1s 4ms/step - loss: 3.0495\n",
      "Epoch 39/100\n",
      "157/157 [==============================] - 1s 4ms/step - loss: 2.9993\n",
      "Epoch 40/100\n",
      "157/157 [==============================] - 1s 4ms/step - loss: 2.9800\n",
      "Epoch 41/100\n",
      "157/157 [==============================] - 1s 4ms/step - loss: 3.0281\n",
      "Epoch 42/100\n",
      "157/157 [==============================] - 1s 4ms/step - loss: 2.9979\n",
      "Epoch 43/100\n",
      "157/157 [==============================] - 1s 4ms/step - loss: 2.9808\n",
      "Epoch 44/100\n",
      "157/157 [==============================] - 1s 4ms/step - loss: 3.0271\n",
      "Epoch 45/100\n",
      "157/157 [==============================] - 1s 4ms/step - loss: 2.9723\n",
      "Epoch 46/100\n",
      "157/157 [==============================] - 1s 5ms/step - loss: 2.9811\n",
      "Epoch 47/100\n",
      "157/157 [==============================] - 1s 4ms/step - loss: 2.9228\n",
      "Epoch 48/100\n",
      "157/157 [==============================] - 1s 4ms/step - loss: 2.9430\n",
      "Epoch 49/100\n",
      "157/157 [==============================] - 1s 5ms/step - loss: 2.9944\n",
      "Epoch 50/100\n",
      "157/157 [==============================] - 1s 4ms/step - loss: 2.8671\n",
      "Epoch 51/100\n",
      "157/157 [==============================] - 1s 4ms/step - loss: 2.8856\n",
      "Epoch 52/100\n",
      "157/157 [==============================] - 1s 4ms/step - loss: 2.9121\n",
      "Epoch 53/100\n",
      "157/157 [==============================] - 1s 4ms/step - loss: 2.9119\n",
      "Epoch 54/100\n",
      "157/157 [==============================] - 1s 4ms/step - loss: 2.8628\n",
      "Epoch 55/100\n",
      "157/157 [==============================] - 1s 4ms/step - loss: 2.8097\n",
      "Epoch 56/100\n",
      "157/157 [==============================] - 1s 4ms/step - loss: 2.9499\n",
      "Epoch 57/100\n",
      "157/157 [==============================] - 1s 4ms/step - loss: 2.8291\n",
      "Epoch 58/100\n",
      "157/157 [==============================] - 1s 4ms/step - loss: 2.8037\n",
      "Epoch 59/100\n",
      "157/157 [==============================] - 1s 4ms/step - loss: 2.8379\n",
      "Epoch 60/100\n",
      "157/157 [==============================] - 1s 4ms/step - loss: 2.8073\n",
      "Epoch 61/100\n",
      "157/157 [==============================] - 1s 4ms/step - loss: 2.8789\n",
      "Epoch 62/100\n",
      "157/157 [==============================] - 1s 4ms/step - loss: 2.7798\n",
      "Epoch 63/100\n",
      "157/157 [==============================] - 1s 4ms/step - loss: 2.7955\n",
      "Epoch 64/100\n",
      "157/157 [==============================] - 1s 4ms/step - loss: 2.6759\n",
      "Epoch 65/100\n",
      "157/157 [==============================] - 1s 4ms/step - loss: 2.7420\n",
      "Epoch 66/100\n",
      "157/157 [==============================] - 1s 4ms/step - loss: 2.6766\n",
      "Epoch 67/100\n",
      "157/157 [==============================] - 1s 4ms/step - loss: 2.6872\n",
      "Epoch 68/100\n",
      "157/157 [==============================] - 1s 4ms/step - loss: 2.6192\n",
      "Epoch 69/100\n",
      "157/157 [==============================] - 1s 4ms/step - loss: 2.4959\n",
      "Epoch 70/100\n",
      "157/157 [==============================] - 1s 4ms/step - loss: 2.4935\n",
      "Epoch 71/100\n",
      "157/157 [==============================] - 1s 4ms/step - loss: 2.4498\n",
      "Epoch 72/100\n",
      "157/157 [==============================] - 1s 4ms/step - loss: 2.3763\n",
      "Epoch 73/100\n",
      "157/157 [==============================] - 1s 4ms/step - loss: 2.3874\n",
      "Epoch 74/100\n",
      "157/157 [==============================] - 1s 4ms/step - loss: 2.3980\n",
      "Epoch 75/100\n",
      "157/157 [==============================] - 1s 4ms/step - loss: 2.3195\n",
      "Epoch 76/100\n",
      "157/157 [==============================] - 1s 4ms/step - loss: 2.2619\n",
      "Epoch 77/100\n",
      "157/157 [==============================] - 1s 4ms/step - loss: 2.2884\n",
      "Epoch 78/100\n",
      "157/157 [==============================] - 1s 4ms/step - loss: 2.2914\n",
      "Epoch 79/100\n",
      "157/157 [==============================] - 1s 4ms/step - loss: 2.2354\n",
      "Epoch 80/100\n",
      "157/157 [==============================] - 1s 4ms/step - loss: 2.2463\n",
      "Epoch 81/100\n",
      "157/157 [==============================] - 1s 4ms/step - loss: 2.1911\n",
      "Epoch 82/100\n",
      "157/157 [==============================] - 1s 4ms/step - loss: 2.1427\n",
      "Epoch 83/100\n",
      "157/157 [==============================] - 1s 4ms/step - loss: 2.1706\n",
      "Epoch 84/100\n",
      "157/157 [==============================] - 1s 4ms/step - loss: 2.1064\n",
      "Epoch 85/100\n",
      "157/157 [==============================] - 1s 4ms/step - loss: 2.0968\n",
      "Epoch 86/100\n",
      "157/157 [==============================] - 1s 4ms/step - loss: 2.1388\n",
      "Epoch 87/100\n",
      "157/157 [==============================] - 1s 4ms/step - loss: 2.1235\n",
      "Epoch 88/100\n",
      "157/157 [==============================] - 1s 4ms/step - loss: 2.1044\n",
      "Epoch 89/100\n",
      "157/157 [==============================] - 1s 4ms/step - loss: 2.1308\n",
      "Epoch 90/100\n",
      "157/157 [==============================] - 1s 4ms/step - loss: 2.0616\n",
      "Epoch 91/100\n",
      "157/157 [==============================] - 1s 4ms/step - loss: 2.0945\n",
      "Epoch 92/100\n",
      "157/157 [==============================] - 1s 4ms/step - loss: 2.0894\n",
      "Epoch 93/100\n",
      "157/157 [==============================] - 1s 4ms/step - loss: 2.1128\n",
      "Epoch 94/100\n",
      "157/157 [==============================] - 1s 3ms/step - loss: 2.0994\n",
      "Epoch 95/100\n",
      "157/157 [==============================] - 1s 3ms/step - loss: 2.0892\n",
      "Epoch 96/100\n",
      "157/157 [==============================] - 1s 3ms/step - loss: 2.0684\n",
      "Epoch 97/100\n",
      "157/157 [==============================] - 1s 3ms/step - loss: 2.0471\n",
      "Epoch 98/100\n",
      "157/157 [==============================] - 1s 3ms/step - loss: 2.0347\n",
      "Epoch 99/100\n",
      "157/157 [==============================] - 1s 4ms/step - loss: 2.0641\n",
      "Epoch 100/100\n",
      "157/157 [==============================] - 1s 4ms/step - loss: 2.0764\n"
     ]
    }
   ],
   "source": [
    "epochs = 100\n",
    "save_period = 20  # after how many epochs the model should be saved?\n",
    "\n",
    "chkpnt_saver = keras.callbacks.ModelCheckpoint(\"weights-{epoch:02d}.hdf5\", save_weights_only=True, save_freq=save_period)\n",
    "\n",
    "results = model.fit(\n",
    "    xtrain,\n",
    "    ytrain,\n",
    "    batch_size=64,\n",
    "    epochs=epochs,\n",
    "    verbose=1,\n",
    "    callbacks=[chkpnt_saver]\n",
    "    )"
   ]
  },
  {
   "cell_type": "markdown",
   "metadata": {},
   "source": [
    "Compare the performance of the model during the training."
   ]
  },
  {
   "cell_type": "code",
   "execution_count": 10,
   "metadata": {},
   "outputs": [
    {
     "data": {
      "image/png": "[encoded data removed]",
      "text/plain": [
       "<Figure size 864x576 with 2 Axes>"
      ]
     },
     "metadata": {
      "needs_background": "light"
     },
     "output_type": "display_data"
    }
   ],
   "source": [
    "fig, (ax1, ax2) = plt.subplots(nrows=2, figsize=(12, 8))\n",
    "\n",
    "ax1.plot(xtest, ytest, color=\"black\", label=\"data\")\n",
    "saved_epochs = range(save_period, epochs + 1, save_period)\n",
    "\n",
    "colors = [plt.cm.jet((i + 1) / float(len(saved_epochs) + 1)) for i in range(len(saved_epochs))]\n",
    "\n",
    "for i, epoch in enumerate(saved_epochs):\n",
    "    model.load_weights(\"weights-{epoch:02d}.hdf5\".format(epoch=epoch))\n",
    "    ypredict = model.predict(xtest).squeeze()\n",
    "    ax1.plot(xtest.squeeze(), ypredict, color=colors[i], label=epoch)\n",
    "    ax2.plot(epoch, results.history[\"loss\"][epoch - 1], color=colors[i], marker=\"o\")\n",
    "\n",
    "ax1.set(xlabel=\"x\", ylabel=\"some_complicated_function(x)\", xlim=(-10, 13), title=\"\")\n",
    "ax1.grid(True)\n",
    "ax1.legend(loc=\"upper right\", title=\"Epochs\")\n",
    "\n",
    "ax2.plot(results.history[\"loss\"], color=\"black\")\n",
    "ax2.set(xlabel=\"epoch\", ylabel=\"loss\")\n",
    "ax2.grid(True)\n",
    "ax2.semilogy()\n",
    "\n",
    "plt.show()"
   ]
  },
  {
   "cell_type": "markdown",
   "metadata": {},
   "source": [
    "As can be seen, with an increasing number of iterations, the performance of the DNN improves.\n",
    "Additionally, it can be seen nicely that the ReLU activation function was used (sharp linear intervals)."
   ]
  }
 ],
 "metadata": {
  "kernelspec": {
   "display_name": "Python 3",
   "language": "python",
   "name": "python3"
  },
  "language_info": {
   "codemirror_mode": {
    "name": "ipython",
    "version": 3
   },
   "file_extension": ".py",
   "mimetype": "text/x-python",
   "name": "python",
   "nbconvert_exporter": "python",
   "pygments_lexer": "ipython3",
   "version": "3.6.9"
  }
 },
 "nbformat": 4,
 "nbformat_minor": 4
}
