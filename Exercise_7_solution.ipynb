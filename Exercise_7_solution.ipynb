{
 "cells": [
  {
   "cell_type": "markdown",
   "metadata": {},
   "source": [
    "# Solution Exercise 7.1\n",
    "### Classification of magnetic phases\n",
    "Imagine a 2- dimensional lattice arrangement of n×n magnetic dipole moments (spins) that can be in one of two states (+1 or −1, Ising model).\n",
    "With interactions between spins being short ranged, each spin interacts only with its four neighbors.\n",
    "The probability to find a spin in one of the orientations is a function of temperature T according to p ∼ exp (−a/T ), a = const.).\n",
    "\n",
    "At extremely low temperatures T → 0, neighboring spins have a very low probability of different orientations, so that a uniform overall state (ferromagnetic state) is adopted, characterized by +1 or −1.\n",
    "At very high temperatures T → ∞, a paramagnetic phase with random spin alignment results, yielding 50% of +1 and  0% of −1 orientations.\n",
    "Below a critical temperature 0 < T < Tc, stable ferromagnetic domains emerge, with both orientations being equally probable in the absence of an external magnetic field.\n",
    "The spin-spin correlation function diverges at Tc, whereas the correlation decays for T > Tc.\n",
    "\n",
    "The data for this task contain the n × n dipole orientations on the lattice for different temperatures T.\n",
    "Classify the two magnetic phases (paramagnetic/ferromagnetic)!"
   ]
  },
  {
   "cell_type": "code",
   "execution_count": 12,
   "metadata": {},
   "outputs": [
    {
     "name": "stdout",
     "output_type": "stream",
     "text": [
      "keras 2.4.0\n"
     ]
    }
   ],
   "source": [
    "from tensorflow import keras\n",
    "import numpy as np\n",
    "callbacks = keras.callbacks\n",
    "layers = keras.layers\n",
    "\n",
    "print(\"keras\", keras.__version__)"
   ]
  },
  {
   "cell_type": "markdown",
   "metadata": {},
   "source": [
    "### Load and prepare dataset"
   ]
  },
  {
   "cell_type": "code",
   "execution_count": 2,
   "metadata": {},
   "outputs": [],
   "source": [
    "import gdown\n",
    "url = \"https://drive.google.com/u/0/uc?export=download&confirm=HgGH&id=1Ihxt1hb3Kyv0IrjHlsYb9x9QY7l7n2Sl\"\n",
    "output = 'ising_data.npz'\n",
    "gdown.download(url, output, quiet=True)\n",
    "\n",
    "f = np.load(output, allow_pickle=True)\n",
    "n_train = 20000\n",
    "\n",
    "x_train, x_test = f[\"C\"][:n_train], f[\"C\"][n_train:]\n",
    "T_train, T_test = f[\"T\"][:n_train], f[\"T\"][n_train:]"
   ]
  },
  {
   "cell_type": "markdown",
   "metadata": {},
   "source": [
    "### Plot data"
   ]
  },
  {
   "cell_type": "code",
   "execution_count": 3,
   "metadata": {},
   "outputs": [
    {
     "data": {
      "image/png": "[encoded data removed]",
      "text/plain": [
       "<Figure size 432x288 with 6 Axes>"
      ]
     },
     "metadata": {
      "needs_background": "light"
     },
     "output_type": "display_data"
    }
   ],
   "source": [
    "import matplotlib.pyplot as plt\n",
    "\n",
    "for i,j in enumerate(np.random.choice(n_train, 6)):\n",
    "    plt.subplot(2,3,i+1)\n",
    "    image = x_train[j]\n",
    "    plot = plt.imshow(image)\n",
    "    plt.title(\"T: %.2f\" % T_train[j])\n",
    "\n",
    "plt.tight_layout()\n",
    "plt.show()"
   ]
  },
  {
   "cell_type": "code",
   "execution_count": 4,
   "metadata": {},
   "outputs": [
    {
     "data": {
      "text/plain": [
       "Text(0, 0.5, 'frequency')"
      ]
     },
     "execution_count": 4,
     "metadata": {},
     "output_type": "execute_result"
    },
    {
     "data": {
      "image/png": "[encoded data removed]",
      "text/plain": [
       "<Figure size 432x288 with 1 Axes>"
      ]
     },
     "metadata": {
      "needs_background": "light"
     },
     "output_type": "display_data"
    }
   ],
   "source": [
    "plt.hist(T_test)\n",
    "plt.xlabel(\"T\")\n",
    "plt.ylabel(\"frequency\")"
   ]
  },
  {
   "cell_type": "markdown",
   "metadata": {},
   "source": [
    "#### Set up training data - define magnetic phases"
   ]
  },
  {
   "cell_type": "code",
   "execution_count": 5,
   "metadata": {},
   "outputs": [],
   "source": [
    "Tc = 2.27\n",
    "y_train, y_test = T_train > Tc, T_test > Tc"
   ]
  },
  {
   "cell_type": "markdown",
   "metadata": {},
   "source": [
    " ### Task\n",
    "\n",
    " - evaluate the test accuracy for a fully-connected network,\n",
    " - plot the test accuracy vs. temperature.\n"
   ]
  },
  {
   "cell_type": "code",
   "execution_count": 6,
   "metadata": {},
   "outputs": [
    {
     "name": "stdout",
     "output_type": "stream",
     "text": [
      "Model: \"sequential\"\n",
      "_________________________________________________________________\n",
      "Layer (type)                 Output Shape              Param #   \n",
      "=================================================================\n",
      "reshape (Reshape)            (None, 1024)              0         \n",
      "_________________________________________________________________\n",
      "dense (Dense)                (None, 32)                32800     \n",
      "_________________________________________________________________\n",
      "dropout (Dropout)            (None, 32)                0         \n",
      "_________________________________________________________________\n",
      "dense_1 (Dense)              (None, 32)                1056      \n",
      "_________________________________________________________________\n",
      "dropout_1 (Dropout)          (None, 32)                0         \n",
      "_________________________________________________________________\n",
      "dense_2 (Dense)              (None, 1)                 33        \n",
      "=================================================================\n",
      "Total params: 33,889\n",
      "Trainable params: 33,889\n",
      "Non-trainable params: 0\n",
      "_________________________________________________________________\n"
     ]
    }
   ],
   "source": [
    "model = keras.models.Sequential()\n",
    "model.add(layers.InputLayer(input_shape=(32, 32, 1)))\n",
    "model.add(layers.Reshape((1024,)))\n",
    "model.add(layers.Dense(32, activation='relu'))\n",
    "model.add(layers.Dropout(0.3))\n",
    "model.add(layers.Dense(32, activation='relu'))\n",
    "model.add(layers.Dropout(0.3))\n",
    "model.add(layers.Dense(1, activation='sigmoid'))\n",
    "model.summary()"
   ]
  },
  {
   "cell_type": "markdown",
   "metadata": {},
   "source": [
    "### prepare model for training"
   ]
  },
  {
   "cell_type": "code",
   "execution_count": 7,
   "metadata": {},
   "outputs": [],
   "source": [
    "model.compile(\n",
    "    loss='binary_crossentropy',\n",
    "    optimizer=keras.optimizers.Adam(0.001),\n",
    "    metrics=['accuracy'])\n"
   ]
  },
  {
   "cell_type": "code",
   "execution_count": 8,
   "metadata": {},
   "outputs": [
    {
     "name": "stdout",
     "output_type": "stream",
     "text": [
      "Epoch 1/50\n",
      "563/563 - 3s - loss: 0.2490 - accuracy: 0.9048 - val_loss: 0.0825 - val_accuracy: 0.9765\n",
      "Epoch 2/50\n",
      "563/563 - 1s - loss: 0.1390 - accuracy: 0.9559 - val_loss: 0.0809 - val_accuracy: 0.9785\n",
      "Epoch 3/50\n",
      "563/563 - 1s - loss: 0.1101 - accuracy: 0.9659 - val_loss: 0.0766 - val_accuracy: 0.9765\n",
      "Epoch 4/50\n",
      "563/563 - 1s - loss: 0.0921 - accuracy: 0.9728 - val_loss: 0.0830 - val_accuracy: 0.9750\n",
      "Epoch 5/50\n",
      "563/563 - 1s - loss: 0.0838 - accuracy: 0.9738 - val_loss: 0.0724 - val_accuracy: 0.9775\n",
      "Epoch 6/50\n",
      "563/563 - 0s - loss: 0.0711 - accuracy: 0.9768 - val_loss: 0.1046 - val_accuracy: 0.9735\n",
      "Epoch 7/50\n",
      "563/563 - 0s - loss: 0.0686 - accuracy: 0.9776 - val_loss: 0.0762 - val_accuracy: 0.9720\n",
      "\n",
      "Epoch 00007: ReduceLROnPlateau reducing learning rate to 0.0006700000318232924.\n",
      "Epoch 8/50\n",
      "563/563 - 0s - loss: 0.0531 - accuracy: 0.9822 - val_loss: 0.0785 - val_accuracy: 0.9710\n",
      "Epoch 9/50\n",
      "563/563 - 0s - loss: 0.0490 - accuracy: 0.9843 - val_loss: 0.0829 - val_accuracy: 0.9725\n",
      "\n",
      "Epoch 00009: ReduceLROnPlateau reducing learning rate to 0.0004489000252215192.\n",
      "Epoch 10/50\n",
      "563/563 - 1s - loss: 0.0397 - accuracy: 0.9871 - val_loss: 0.0913 - val_accuracy: 0.9690\n",
      "Epoch 00010: early stopping\n"
     ]
    }
   ],
   "source": [
    "history = model.fit(\n",
    "    x_train, y_train,\n",
    "    batch_size=32,\n",
    "    epochs=50,\n",
    "    verbose=2,\n",
    "    validation_split=0.1,\n",
    "    callbacks=[\n",
    "        callbacks.EarlyStopping(patience=5, verbose=1),\n",
    "        callbacks.ReduceLROnPlateau(factor=0.67, patience=2, verbose=1)]\n",
    ")"
   ]
  },
  {
   "cell_type": "markdown",
   "metadata": {},
   "source": [
    "### Evaluate training"
   ]
  },
  {
   "cell_type": "code",
   "execution_count": 9,
   "metadata": {},
   "outputs": [],
   "source": [
    "a = model.evaluate(x_test, y_test, verbose=0)"
   ]
  },
  {
   "cell_type": "code",
   "execution_count": 11,
   "metadata": {},
   "outputs": [
    {
     "data": {
      "text/plain": [
       "<matplotlib.lines.Line2D at 0x7fdc56077320>"
      ]
     },
     "execution_count": 11,
     "metadata": {},
     "output_type": "execute_result"
    },
    {
     "data": {
      "image/png": "[encoded data removed]",
      "text/plain": [
       "<Figure size 432x288 with 1 Axes>"
      ]
     },
     "metadata": {
      "needs_background": "light"
     },
     "output_type": "display_data"
    }
   ],
   "source": [
    "import seaborn as sns\n",
    "\n",
    "preds = model.predict(x_test).round().squeeze()\n",
    "acc = (preds == y_test).astype(np.float)\n",
    "\n",
    "ax = sns.regplot(x=T_test, y=acc, x_estimator= np.mean, fit_reg=False)\n",
    "ax.set_ylabel(\"accuracy\")\n",
    "ax.set_xlabel(\"T\")\n",
    "plt.axvline(x=Tc, color='k', linestyle='--', label='Tc')"
   ]
  }
 ],
 "metadata": {
  "kernelspec": {
   "display_name": "Python 3",
   "language": "python",
   "name": "python3"
  },
  "language_info": {
   "codemirror_mode": {
    "name": "ipython",
    "version": 3
   },
   "file_extension": ".py",
   "mimetype": "text/x-python",
   "name": "python",
   "nbconvert_exporter": "python",
   "pygments_lexer": "ipython3",
   "version": "3.6.9"
  }
 },
 "nbformat": 4,
 "nbformat_minor": 4
}
