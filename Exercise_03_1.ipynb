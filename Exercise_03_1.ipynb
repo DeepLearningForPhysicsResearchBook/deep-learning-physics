{
 "cells": [
  {
   "cell_type": "markdown",
   "metadata": {},
   "source": [
    "# Exercise 3.1\n",
    "\n",
    "Congratulations - you have successfully navigated to the exercise page for the book **Deep Learning for Physics Research** \n",
    "\n",
    "This page hosts additional descriptions as well (where appropriate) example solutions to the exercise problems. While the solutions are available, we recommend you first attempt to solve the problem yourself, before looking up the answer. As many problems are open-ended, the presented solution of course often only represents one possible option how the problem could be solved.\n",
    "\n",
    "Some helpful links:\n",
    " * Python Tutorial (https://docs.python.org/3.7/tutorial/index.html): an introduction to the Python programming language\n",
    " \n",
    " * Google Colab (https://colab.research.google.com/): for Python development in your web-browser\n",
    " * Anaconda (https://www.anaconda.com/products/individual): a Python distribution for local installation\n",
    " \n",
    " * numpy (https://numpy.org/doc/stable/user/quickstart.html): a widely used library for mathematical operations in Python\n",
    " \n",
    " * Keras (https://keras.io/): a beginner-friendly deep learning library used in these exercises\n",
    " \n",
    " * Tensor Flow (https://www.tensorflow.org/): a useful backend for deep learning development\n",
    "\n",
    " * SciKit Learn (https://scikit-learn.org/stable/): helpful machine learning library \n",
    " \n",
    " * Seaborn (https://seaborn.pydata.org/): a library for creating nice looking graphs and figures\n"
   ]
  }
 ],
 "metadata": {
  "kernelspec": {
   "display_name": "Python 3",
   "language": "python",
   "name": "python3"
  },
  "language_info": {
   "codemirror_mode": {
    "name": "ipython",
    "version": 3
   },
   "file_extension": ".py",
   "mimetype": "text/x-python",
   "name": "python",
   "nbconvert_exporter": "python",
   "pygments_lexer": "ipython3",
   "version": "3.7.6"
  }
 },
 "nbformat": 4,
 "nbformat_minor": 4
}
