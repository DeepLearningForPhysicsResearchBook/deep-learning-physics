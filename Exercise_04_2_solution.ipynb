{
 "cells": [
  {
   "cell_type": "markdown",
   "metadata": {},
   "source": [
    "# Exercise 4.2 - Solution\n",
    "## Linear regression\n",
    "In this task we will design and train a linear model using [Keras](https://keras.io/).\n",
    "\n",
    "### Tasks\n",
    "1. Complete the implemetation of the `LinearLayer`\n",
    "2. Define a meaningful objective\n",
    "3. Implement gradient descent and train the linear model for 80 epochs."
   ]
  },
  {
   "cell_type": "code",
   "execution_count": 2,
   "metadata": {},
   "outputs": [],
   "source": [
    "import tensorflow as tf\n",
    "from tensorflow import keras\n",
    "import numpy as np\n",
    "import matplotlib.pyplot as plt\n",
    "\n",
    "layers = keras.layers"
   ]
  },
  {
   "cell_type": "markdown",
   "metadata": {},
   "source": [
    "### Simulation of data\n",
    "Let's first simulate some noisy data"
   ]
  },
  {
   "cell_type": "code",
   "execution_count": 2,
   "metadata": {},
   "outputs": [
    {
     "name": "stdout",
     "output_type": "stream",
     "text": [
      "x.shape: (100, 1)\n",
      "y.shape: (100,)\n"
     ]
    }
   ],
   "source": [
    "np.random.seed(1904)\n",
    "x = np.float32(np.linspace(-1, 1, 100)[:,np.newaxis])\n",
    "y = np.float32(2 * x[:,0] + 0.3 * np.random.randn(100))\n",
    "print(\"x.shape:\", x.shape)\n",
    "print(\"y.shape:\", y.shape)"
   ]
  },
  {
   "cell_type": "markdown",
   "metadata": {},
   "source": [
    "### Implement linear model"
   ]
  },
  {
   "cell_type": "markdown",
   "metadata": {},
   "source": [
    "Now, we have to design a <b>linear layer</b> that maps from the input $x$ to the output $y$ using a single adaptive weight $w$:\n",
    " \n",
    "$$y = w \\cdot x$$\n",
    "\n",
    "### Task 1\n",
    "Complete the implementation of the `LinearLayer` by adding the linear transformation in the `call` function."
   ]
  },
  {
   "cell_type": "code",
   "execution_count": 3,
   "metadata": {},
   "outputs": [],
   "source": [
    "class LinearLayer(layers.Layer):\n",
    "\n",
    "    def __init__(self, units=1, input_dim=1):  # when intializing the layer the weights have to be initialized\n",
    "        super(LinearLayer, self).__init__()\n",
    "        w_init = tf.random_normal_initializer()\n",
    "        self.w = tf.Variable(initial_value=w_init(shape=(input_dim, units), dtype=\"float32\"),\n",
    "                             trainable=True)\n",
    "\n",
    "    def call(self, inputs):  # when calling the layer the linear transformation has to be performed\n",
    "        return tf.matmul(inputs, self.w)"
   ]
  },
  {
   "cell_type": "markdown",
   "metadata": {},
   "source": [
    "Build a model using the implemented layer."
   ]
  },
  {
   "cell_type": "code",
   "execution_count": 4,
   "metadata": {},
   "outputs": [],
   "source": [
    "model = keras.models.Sequential()\n",
    "model.add(LinearLayer(units=1, input_dim=1))"
   ]
  },
  {
   "cell_type": "code",
   "execution_count": 5,
   "metadata": {},
   "outputs": [
    {
     "name": "stdout",
     "output_type": "stream",
     "text": [
      "Model: \"sequential\"\n",
      "_________________________________________________________________\n",
      "Layer (type)                 Output Shape              Param #   \n",
      "=================================================================\n",
      "linear_layer (LinearLayer)   (None, 1)                 1         \n",
      "=================================================================\n",
      "Total params: 1\n",
      "Trainable params: 1\n",
      "Non-trainable params: 0\n",
      "_________________________________________________________________\n",
      "None\n"
     ]
    }
   ],
   "source": [
    "model.build((None, 1))\n",
    "print(model.summary())"
   ]
  },
  {
   "cell_type": "markdown",
   "metadata": {},
   "source": [
    "### Performance before the training\n",
    "Plot data and model before the training"
   ]
  },
  {
   "cell_type": "code",
   "execution_count": 6,
   "metadata": {},
   "outputs": [
    {
     "data": {
      "image/png": "[encoded data removed]",
      "text/plain": [
       "<Figure size 432x288 with 1 Axes>"
      ]
     },
     "metadata": {
      "needs_background": "light"
     },
     "output_type": "display_data"
    }
   ],
   "source": [
    "y_pred = model(x)\n",
    "\n",
    "fig, ax = plt.subplots(1)\n",
    "ax.plot(x, y, 'bo', label='data')\n",
    "ax.plot(x, y_pred, 'r-', label='model')\n",
    "ax.set(xlabel='$x$', ylabel='$y$')\n",
    "ax.grid()\n",
    "ax.legend(loc='lower right')\n",
    "plt.tight_layout()"
   ]
  },
  {
   "cell_type": "markdown",
   "metadata": {},
   "source": [
    "### Task 2: Define the objective function\n",
    "Define a meaningful objective here (regression task).  \n",
    "Note that you can use `tf.reduce_mean()` to average your loss estimate over the full data set (100 points)."
   ]
  },
  {
   "cell_type": "code",
   "execution_count": 7,
   "metadata": {},
   "outputs": [],
   "source": [
    "def loss(x, y):\n",
    "    return tf.reduce_mean((tf.squeeze(x)-tf.squeeze(y))**2)"
   ]
  },
  {
   "cell_type": "markdown",
   "metadata": {},
   "source": [
    "### Task 3 - Train the model using gradient descent\n",
    "'Train' the linear model for 80 epochs (or iterations) with a meaningful learning rate and implement gradient descent.  \n",
    "Hint: you can access the adaptive parameters using `model.trainable_weights` and perform $w' \\rightarrow w-z$ using `w.assign_sub(z)`"
   ]
  },
  {
   "cell_type": "code",
   "execution_count": 8,
   "metadata": {},
   "outputs": [
    {
     "name": "stdout",
     "output_type": "stream",
     "text": [
      "Current loss at epoch 0: 1.5236\n",
      "Current loss at epoch 1: 1.3338\n",
      "Current loss at epoch 2: 1.1689\n",
      "Current loss at epoch 3: 1.0257\n",
      "Current loss at epoch 4: 0.9014\n",
      "Current loss at epoch 5: 0.7933\n",
      "Current loss at epoch 6: 0.6995\n",
      "Current loss at epoch 7: 0.6180\n",
      "Current loss at epoch 8: 0.5472\n",
      "Current loss at epoch 9: 0.4857\n",
      "Current loss at epoch 10: 0.4323\n",
      "Current loss at epoch 11: 0.3859\n",
      "Current loss at epoch 12: 0.3456\n",
      "Current loss at epoch 13: 0.3106\n",
      "Current loss at epoch 14: 0.2802\n",
      "Current loss at epoch 15: 0.2538\n",
      "Current loss at epoch 16: 0.2308\n",
      "Current loss at epoch 17: 0.2109\n",
      "Current loss at epoch 18: 0.1936\n",
      "Current loss at epoch 19: 0.1786\n",
      "Current loss at epoch 20: 0.1655\n",
      "Current loss at epoch 21: 0.1542\n",
      "Current loss at epoch 22: 0.1443\n",
      "Current loss at epoch 23: 0.1357\n",
      "Current loss at epoch 24: 0.1283\n",
      "Current loss at epoch 25: 0.1219\n",
      "Current loss at epoch 26: 0.1163\n",
      "Current loss at epoch 27: 0.1114\n",
      "Current loss at epoch 28: 0.1072\n",
      "Current loss at epoch 29: 0.1035\n",
      "Current loss at epoch 30: 0.1003\n",
      "Current loss at epoch 31: 0.0975\n",
      "Current loss at epoch 32: 0.0951\n",
      "Current loss at epoch 33: 0.0930\n",
      "Current loss at epoch 34: 0.0912\n",
      "Current loss at epoch 35: 0.0896\n",
      "Current loss at epoch 36: 0.0882\n",
      "Current loss at epoch 37: 0.0871\n",
      "Current loss at epoch 38: 0.0860\n",
      "Current loss at epoch 39: 0.0851\n",
      "Current loss at epoch 40: 0.0843\n",
      "Current loss at epoch 41: 0.0837\n",
      "Current loss at epoch 42: 0.0831\n",
      "Current loss at epoch 43: 0.0826\n",
      "Current loss at epoch 44: 0.0821\n",
      "Current loss at epoch 45: 0.0817\n",
      "Current loss at epoch 46: 0.0814\n",
      "Current loss at epoch 47: 0.0811\n",
      "Current loss at epoch 48: 0.0809\n",
      "Current loss at epoch 49: 0.0806\n",
      "Current loss at epoch 50: 0.0804\n",
      "Current loss at epoch 51: 0.0803\n",
      "Current loss at epoch 52: 0.0801\n",
      "Current loss at epoch 53: 0.0800\n",
      "Current loss at epoch 54: 0.0799\n",
      "Current loss at epoch 55: 0.0798\n",
      "Current loss at epoch 56: 0.0797\n",
      "Current loss at epoch 57: 0.0797\n",
      "Current loss at epoch 58: 0.0796\n",
      "Current loss at epoch 59: 0.0795\n",
      "Current loss at epoch 60: 0.0795\n",
      "Current loss at epoch 61: 0.0795\n",
      "Current loss at epoch 62: 0.0794\n",
      "Current loss at epoch 63: 0.0794\n",
      "Current loss at epoch 64: 0.0794\n",
      "Current loss at epoch 65: 0.0793\n",
      "Current loss at epoch 66: 0.0793\n",
      "Current loss at epoch 67: 0.0793\n",
      "Current loss at epoch 68: 0.0793\n",
      "Current loss at epoch 69: 0.0793\n",
      "Current loss at epoch 70: 0.0793\n",
      "Current loss at epoch 71: 0.0792\n",
      "Current loss at epoch 72: 0.0792\n",
      "Current loss at epoch 73: 0.0792\n",
      "Current loss at epoch 74: 0.0792\n",
      "Current loss at epoch 75: 0.0792\n",
      "Current loss at epoch 76: 0.0792\n",
      "Current loss at epoch 77: 0.0792\n",
      "Current loss at epoch 78: 0.0792\n",
      "Current loss at epoch 79: 0.0792\n"
     ]
    }
   ],
   "source": [
    "epochs = 80  # number of epochs\n",
    "lr = 0.1  # learning rate\n",
    "\n",
    "for epoch in range(epochs):\n",
    "\n",
    "    with tf.GradientTape() as tape:\n",
    "        output = model(x, training=True)\n",
    "        # Compute loss value\n",
    "        loss_value = loss(tf.convert_to_tensor(y), output)\n",
    "        grads = tape.gradient(loss_value, model.trainable_weights)\n",
    "        \n",
    "        for weight, grad in zip(model.trainable_weights, grads):\n",
    "            weight.assign_sub(lr * grad)\n",
    "\n",
    "        print(\"Current loss at epoch %d: %.4f\" % (epoch, float(loss_value)))"
   ]
  },
  {
   "cell_type": "markdown",
   "metadata": {},
   "source": [
    "### Performance of the fitted model\n",
    "Plot data and model after the training"
   ]
  },
  {
   "cell_type": "code",
   "execution_count": 9,
   "metadata": {},
   "outputs": [
    {
     "data": {
      "image/png": "[encoded data removed]",
      "text/plain": [
       "<Figure size 432x288 with 1 Axes>"
      ]
     },
     "metadata": {
      "needs_background": "light"
     },
     "output_type": "display_data"
    }
   ],
   "source": [
    "fig, ax = plt.subplots(1)\n",
    "\n",
    "y_pred = model(x)\n",
    "\n",
    "ax.plot(x, y, 'bo', label='data')\n",
    "ax.plot(x, y_pred, 'r-', label='model')\n",
    "ax.set(xlabel='$x$', ylabel='$y$')\n",
    "ax.grid()\n",
    "ax.legend(loc='lower right')\n",
    "plt.tight_layout()"
   ]
  }
 ],
 "metadata": {
  "kernelspec": {
   "display_name": "Python 3",
   "language": "python",
   "name": "python3"
  },
  "language_info": {
   "codemirror_mode": {
    "name": "ipython",
    "version": 3
   },
   "file_extension": ".py",
   "mimetype": "text/x-python",
   "name": "python",
   "nbconvert_exporter": "python",
   "pygments_lexer": "ipython3",
   "version": "3.6.9"
  }
 },
 "nbformat": 4,
 "nbformat_minor": 4
}
