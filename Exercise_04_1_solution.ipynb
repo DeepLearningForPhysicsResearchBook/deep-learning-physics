{
 "cells": [
  {
   "cell_type": "markdown",
   "metadata": {
    "id": "rF2trPuyzm9C"
   },
   "source": [
    "# Exercise 4.1 - Solution\n"
   ]
  },
  {
   "cell_type": "code",
   "execution_count": 1,
   "metadata": {
    "id": "ipcsUFDUzm9C"
   },
   "outputs": [],
   "source": [
    "import numpy as np\n",
    "import matplotlib.pyplot as plt"
   ]
  },
  {
   "cell_type": "markdown",
   "metadata": {
    "id": "MCJe_ITJzm9G"
   },
   "source": [
    "**Disclaimer**\n",
    "\n",
    "The book mistakently refers to the page for Exercise 4.2 when introducting Exercise 4.1, etc. Of course, these numbers should match: Book Exercise 4.1 is discussed under Exercise 4.1 \n",
    "\n",
    "**Simple Network**\n",
    "\n",
    "We continue with the dataset first encountered in Exercise 3.2. Please refer to the discussion there for an introduction to the data and the learning objective.\n",
    "\n",
    "Here, we manually implement a simple network architecture"
   ]
  },
  {
   "cell_type": "code",
   "execution_count": 2,
   "metadata": {
    "colab": {
     "base_uri": "https://localhost:8080/"
    },
    "id": "NopU99AT9G7s",
    "outputId": "d7e8848e-b9c0-4eb4-8f18-5acda9d8c343"
   },
   "outputs": [
    {
     "name": "stdout",
     "output_type": "stream",
     "text": [
      "/bin/sh: wget: command not found\r\n"
     ]
    }
   ],
   "source": [
    "# The code snippet below is responsible for downloading the dataset\n",
    "# - for example when running via Google Colab.\n",
    "#\n",
    "# You can also directly download the file using the link if you work\n",
    "# with a local setup (in that case, ignore the !wget)\n",
    "\n",
    "!wget https://archive.ics.uci.edu/ml/machine-learning-databases/wine-quality/winequality-white.csv"
   ]
  },
  {
   "cell_type": "code",
   "execution_count": 3,
   "metadata": {
    "colab": {
     "base_uri": "https://localhost:8080/"
    },
    "id": "5ONqeI5Uzm9H",
    "outputId": "d31ba8d4-cf0a-4f25-8a93-9091c0dd041a"
   },
   "outputs": [
    {
     "name": "stdout",
     "output_type": "stream",
     "text": [
      "data: (4898, 12)\n",
      "First example:\n",
      "Features: [6.300e+00 2.700e-01 1.800e-01 7.700e+00 4.800e-02 4.500e+01 1.860e+02\n",
      " 9.962e-01 3.230e+00 4.700e-01 9.000e+00]\n",
      "Quality: 5.0\n"
     ]
    }
   ],
   "source": [
    "# Before working with the data, \n",
    "# we download and prepare all features\n",
    "\n",
    "# load all examples from the file\n",
    "data = np.genfromtxt('winequality-white.csv',delimiter=\";\",skip_header=1)\n",
    "\n",
    "print(\"data:\", data.shape)\n",
    "\n",
    "# Prepare for proper training\n",
    "np.random.shuffle(data) # randomly sort examples\n",
    "\n",
    "# take the first 3000 examples for training\n",
    "# (remember array slicing from last week)\n",
    "X_train = data[:3000,:11] # all features except last column\n",
    "y_train = data[:3000,11]  # quality column\n",
    "\n",
    "# and the remaining examples for testing\n",
    "X_test = data[3000:,:11] # all features except last column\n",
    "y_test = data[3000:,11] # quality column\n",
    "\n",
    "print(\"First example:\")\n",
    "print(\"Features:\", X_train[0])\n",
    "print(\"Quality:\", y_train[0])"
   ]
  },
  {
   "cell_type": "markdown",
   "metadata": {
    "id": "jiwnyNHpzm9L"
   },
   "source": [
    "# Solutions\n",
    "\n",
    "The goal is to implement the training of a neural network with one input layer, one hidden layer, and one output layer using gradient descent. We first (below) define the matrices and initialise with random values. We need W, b, W' and b'. The shapes will be:\n",
    "  * W: (number of hidden nodes, number of inputs) named `W`\n",
    "  * b: (number of hidden nodes) named `b`\n",
    "  * W': (number of hidden nodes) named `Wp`\n",
    "  * b': (one) named `bp`\n",
    "\n",
    "Your tasks are:     \n",
    "   * Implement a forward pass of the network as `dnn` (see below)\n",
    "   * Implement a function that uses one data point to update the weights using gradient descent. You can follow the `update_weights` skeleton below\n",
    "   * Now you can use the code below (training loop and evaluation) to train the network for multiple data points and even over several epochs. Try to find a set of hyperparameters (number of nodes in the hidden layer, learning rate, number of training epochs) that gives stable results. What is the best result (as measured by the loss on the training sample) you can get?"
   ]
  },
  {
   "cell_type": "code",
   "execution_count": 4,
   "metadata": {},
   "outputs": [
    {
     "name": "stdout",
     "output_type": "stream",
     "text": [
      "(50, 11)\n"
     ]
    }
   ],
   "source": [
    "# Initialise weights with suitable random distributions\n",
    "hidden_nodes = 50 # number of nodes in the hidden layer\n",
    "n_inputs = 11 # input features in the dataset\n",
    "\n",
    "# See section 4.3 of the book for more information on\n",
    "# how to initialise network parameters\n",
    "W = np.random.randn(hidden_nodes,11)*np.sqrt(2./n_inputs)\n",
    "b = np.random.randn(hidden_nodes)*np.sqrt(2./n_inputs)\n",
    "Wp = np.random.randn(hidden_nodes)*np.sqrt(2./hidden_nodes)\n",
    "bp = np.random.randn((1))\n",
    "\n",
    "print(W.shape)"
   ]
  },
  {
   "cell_type": "code",
   "execution_count": 5,
   "metadata": {},
   "outputs": [],
   "source": [
    "# You can use this implementation of the ReLu activation function\n",
    "def relu(x):\n",
    "    return np.maximum(x, 0)"
   ]
  },
  {
   "cell_type": "code",
   "execution_count": 6,
   "metadata": {},
   "outputs": [],
   "source": [
    "def dnn(x,W,b,Wp,bp):\n",
    "    # SOLUTION\n",
    "    # sum_i W'_ki*Relu(sum_j W_ij*x_j + b_i) + b'_k \n",
    "    return np.dot(Wp, relu(np.dot(W,x) + b)) + bp"
   ]
  },
  {
   "cell_type": "code",
   "execution_count": 7,
   "metadata": {},
   "outputs": [],
   "source": [
    "def update_weights(x,y, W, b, Wp, bp):\n",
    "    \n",
    "    lr = 0.00005\n",
    "\n",
    "    # SOLUTION\n",
    "\n",
    "    # Calculate the network output\n",
    "    phi = dnn(x,W,b,Wp,bp)\n",
    "\n",
    "    # Use the formulas derived to calculate the gradient for each of W,b,Wp,bp\n",
    "    delta_bp = 2 * (phi - y)\n",
    "    delta_Wp = 2 * (phi - y) * relu(np.dot(W,x) + b)\n",
    "    delta_b  = 2 * (phi - y) * Wp * np.heaviside(np.dot(W,x) + b, 0.5)\n",
    "    delta_W  = 2 * (phi - y) * np.outer(Wp * np.heaviside(np.dot(W,x) + b, 0.5), x)\n",
    "                \n",
    "    # Update the weights/bias following the rule:  X_new = X_old - learning_rate * gradient    \n",
    "    bp -= lr * delta_bp\n",
    "    Wp -= lr * delta_Wp\n",
    "    b  -= lr * delta_b\n",
    "    W  -= lr * delta_W\n",
    " \n",
    "    \n",
    "    return -1 # no return value needed, you can modify the weights in-place"
   ]
  },
  {
   "cell_type": "markdown",
   "metadata": {},
   "source": [
    "# Training loop and evaluation below"
   ]
  },
  {
   "cell_type": "code",
   "execution_count": 8,
   "metadata": {},
   "outputs": [
    {
     "name": "stdout",
     "output_type": "stream",
     "text": [
      "Epoch: 0 Train Loss: 5.645403582072304 Test Loss: 5.789360719845873\n",
      "Epoch: 1 Train Loss: 1.1533433753334428 Test Loss: 1.1637637243130456\n",
      "Epoch: 2 Train Loss: 0.8064459925389651 Test Loss: 0.8256775797887149\n",
      "Epoch: 3 Train Loss: 0.7194986944212736 Test Loss: 0.7463420451468886\n",
      "Epoch: 4 Train Loss: 0.6823412559002283 Test Loss: 0.6977324105881756\n",
      "Epoch: 5 Train Loss: 0.6664846138051684 Test Loss: 0.6876245778967164\n",
      "Epoch: 6 Train Loss: 0.6587998893746104 Test Loss: 0.6813185867359125\n",
      "Epoch: 7 Train Loss: 0.6542220249941378 Test Loss: 0.6763715413742601\n",
      "Epoch: 8 Train Loss: 0.6515229736431492 Test Loss: 0.6726972058370031\n",
      "Epoch: 9 Train Loss: 0.6500603789067503 Test Loss: 0.6696083273661432\n",
      "Epoch: 10 Train Loss: 0.6493454499784376 Test Loss: 0.6681520553512201\n",
      "Epoch: 11 Train Loss: 0.6555439871036638 Test Loss: 0.6725116282689468\n",
      "Epoch: 12 Train Loss: 0.6550890293925202 Test Loss: 0.6699690448726485\n",
      "Epoch: 13 Train Loss: 0.6526835138767458 Test Loss: 0.6670276424175429\n",
      "Epoch: 14 Train Loss: 0.6524323996393876 Test Loss: 0.6657859446027024\n",
      "Epoch: 15 Train Loss: 0.6508383266412704 Test Loss: 0.6634289610832423\n",
      "Epoch: 16 Train Loss: 0.6475738523938723 Test Loss: 0.6588708333747422\n",
      "Epoch: 17 Train Loss: 0.6448067370447748 Test Loss: 0.656277910633608\n",
      "Epoch: 18 Train Loss: 0.6429866949447117 Test Loss: 0.6541361924738887\n",
      "Epoch: 19 Train Loss: 0.6452836868194535 Test Loss: 0.6603206884328453\n",
      "Epoch: 20 Train Loss: 0.6390966116784169 Test Loss: 0.6484080376897273\n",
      "Epoch: 21 Train Loss: 0.643608872593549 Test Loss: 0.6568905242756689\n",
      "Epoch: 22 Train Loss: 0.6365683454156014 Test Loss: 0.6459070379047909\n",
      "Epoch: 23 Train Loss: 0.6344200247151789 Test Loss: 0.6405648728904523\n",
      "Epoch: 24 Train Loss: 0.6307892457380325 Test Loss: 0.6502294953157811\n",
      "Epoch: 25 Train Loss: 0.6271675389745466 Test Loss: 0.6394346181103574\n",
      "Epoch: 26 Train Loss: 0.625209796186921 Test Loss: 0.6367168482951644\n",
      "Epoch: 27 Train Loss: 0.6254154882759166 Test Loss: 0.6365726656263813\n",
      "Epoch: 28 Train Loss: 0.6233292217982007 Test Loss: 0.6342570747926862\n",
      "Epoch: 29 Train Loss: 0.6194417930925457 Test Loss: 0.6365037775275856\n",
      "Epoch: 30 Train Loss: 0.6153231814680605 Test Loss: 0.6317002972628465\n",
      "Epoch: 31 Train Loss: 0.6126120664039123 Test Loss: 0.6287678460188807\n",
      "Epoch: 32 Train Loss: 0.6129166430079448 Test Loss: 0.6284321403254162\n",
      "Epoch: 33 Train Loss: 0.6104762499877989 Test Loss: 0.6257073921750971\n",
      "Epoch: 34 Train Loss: 0.6082635861912785 Test Loss: 0.6230077493420016\n",
      "Epoch: 35 Train Loss: 0.6080842723192383 Test Loss: 0.6227811633866328\n",
      "Epoch: 36 Train Loss: 0.6035597556499765 Test Loss: 0.6178078657920026\n",
      "Epoch: 37 Train Loss: 0.6016812959797005 Test Loss: 0.6154486388653907\n",
      "Epoch: 38 Train Loss: 0.6000701547553112 Test Loss: 0.6136773857670896\n",
      "Epoch: 39 Train Loss: 0.5996881694114135 Test Loss: 0.6129554259443293\n",
      "Epoch: 40 Train Loss: 0.59857725747447 Test Loss: 0.6122699599476488\n",
      "Epoch: 41 Train Loss: 0.5970114764108893 Test Loss: 0.6105162649916903\n",
      "Epoch: 42 Train Loss: 0.5952629839015641 Test Loss: 0.6094251196258232\n",
      "Epoch: 43 Train Loss: 0.5940349734884387 Test Loss: 0.608027638521175\n",
      "Epoch: 44 Train Loss: 0.5934948491666505 Test Loss: 0.6075563960754147\n",
      "Epoch: 45 Train Loss: 0.5953789625146336 Test Loss: 0.6078046455326416\n",
      "Epoch: 46 Train Loss: 0.5948276458373926 Test Loss: 0.607165242559313\n",
      "Epoch: 47 Train Loss: 0.5934935232783387 Test Loss: 0.6065483328684542\n",
      "Epoch: 48 Train Loss: 0.59473349370651 Test Loss: 0.6076145117172599\n",
      "Epoch: 49 Train Loss: 0.5978180426888854 Test Loss: 0.6139122064546286\n",
      "Best loss: 0.6065483328684542 Final loss: 0.6139122064546286\n",
      "Correlation coefficient: 0.47560172145940866\n"
     ]
    },
    {
     "data": {
      "image/png": "[encoded data removed]",
      "text/plain": [
       "<Figure size 432x288 with 1 Axes>"
      ]
     },
     "metadata": {
      "needs_background": "light"
     },
     "output_type": "display_data"
    },
    {
     "data": {
      "image/png": "[encoded data removed]",
      "text/plain": [
       "<Figure size 432x288 with 1 Axes>"
      ]
     },
     "metadata": {
      "needs_background": "light"
     },
     "output_type": "display_data"
    }
   ],
   "source": [
    "# The code below implements the training.\n",
    "# If you correctly implement  dnn and update_weights above, \n",
    "# you should not need to change anything below. \n",
    "# (apart from increasing the number of epochs)\n",
    "\n",
    "train_losses = []\n",
    "test_losses = []\n",
    "\n",
    "# How many epochs to train\n",
    "n_epochs = 50\n",
    "\n",
    "# Loop over the epochs\n",
    "for ep in range(n_epochs):\n",
    "        \n",
    "    # Each epoch is a complete over the training data\n",
    "    for i in range(X_train.shape[0]):\n",
    "        \n",
    "        # pick one example\n",
    "        x = X_train[i]\n",
    "        y = y_train[i]\n",
    "\n",
    "        # use it to update the weights\n",
    "        update_weights(x,y,W,b,Wp,bp)\n",
    "    \n",
    "    # Calculate predictions for the full training and testing sample\n",
    "    y_pred_train = [dnn(x,W,b,Wp,bp)[0] for x in X_train]\n",
    "    y_pred = [dnn(x,W,b,Wp,bp)[0] for x in X_test]\n",
    "\n",
    "    # Calculate aver loss / example over the epoch\n",
    "    train_loss = sum((y_pred_train-y_train)**2) / y_train.shape[0]\n",
    "    test_loss = sum((y_pred-y_test)**2) / y_test.shape[0] \n",
    "    \n",
    "    # print some information\n",
    "    print(\"Epoch:\",ep, \"Train Loss:\", train_loss, \"Test Loss:\", test_loss)\n",
    "    \n",
    "    # and store the losses for later use\n",
    "    train_losses.append(train_loss)\n",
    "    test_losses.append(test_loss)\n",
    "    \n",
    "    \n",
    "# After the training:\n",
    "    \n",
    "# Prepare scatter plot\n",
    "y_pred = [dnn(x,W,b,Wp,bp)[0] for x in X_test]\n",
    "\n",
    "print(\"Best loss:\", min(test_losses), \"Final loss:\", test_losses[-1])\n",
    "\n",
    "print(\"Correlation coefficient:\", np.corrcoef(y_pred,y_test)[0,1])\n",
    "plt.scatter(y_pred_train,y_train)\n",
    "plt.xlabel(\"Predicted\")\n",
    "plt.ylabel(\"True\")\n",
    "plt.show()\n",
    "\n",
    "# Prepare and loss over time\n",
    "plt.plot(train_losses,label=\"train\")\n",
    "plt.plot(test_losses,label=\"test\")\n",
    "plt.legend()\n",
    "plt.xlabel(\"Epoch\")\n",
    "plt.ylabel(\"Loss\")\n",
    "plt.show()\n"
   ]
  },
  {
   "cell_type": "markdown",
   "metadata": {},
   "source": [
    "# Hint 1"
   ]
  },
  {
   "cell_type": "markdown",
   "metadata": {},
   "source": [
    "We want a network with one hidden layer. As activiation in the hidden layer $\\sigma$ we apply element-wise ReLu, while no activation is used for the output layer. The forward pass of the network then reads:\n",
    "$$\\hat{y}=\\mathbf{W}^{\\prime} \\sigma(\\mathbf{W} \\vec{x}+\\vec{b})+b^{\\prime}$$"
   ]
  },
  {
   "cell_type": "markdown",
   "metadata": {},
   "source": [
    "# Hint 2"
   ]
  },
  {
   "cell_type": "markdown",
   "metadata": {},
   "source": [
    "For the regression problem the objective function is the mean squared error between the prediction and the true label $y$:\n",
    "$$\n",
    "L=(\\hat{y}-y)^{2}\n",
    "$$\n",
    "\n",
    "Taking the partial derivatives - and diligently the applying chain rule - with respect to the different objects yields:\n",
    "\\begin{aligned}\n",
    "\\frac{\\partial L}{\\partial b^{\\prime}} &=2(\\hat{y}-y) \\\\\n",
    "\\frac{\\partial L}{\\partial b_{k}} &=2(\\hat{y}-y) \\mathbf{W}_{k}^{\\prime} \\theta\\left(\\sum_{i} \\mathbf{W}_{i k} x_{i}+b_{k}\\right) \\\\\n",
    "\\frac{\\partial L}{\\partial \\mathbf{W}_{k}^{\\prime}} &=2(\\hat{y}-y) \\sigma\\left(\\sum_{i} \\mathbf{W}_{i k} x_{i}+b_{k}\\right) \\\\\n",
    "\\frac{\\partial L}{\\partial \\mathbf{W}_{k m}} &=2(\\hat{y}-y) \\mathbf{W}_{m}^{\\prime} \\theta\\left(\\sum_{i} \\mathbf{W}_{i k} x_{i}+b_{m}\\right) x_{k}\n",
    "\\end{aligned}\n",
    "\n",
    "Here, $\\Theta$ denotes the Heaviside step function."
   ]
  },
  {
   "cell_type": "code",
   "execution_count": null,
   "metadata": {},
   "outputs": [],
   "source": []
  }
 ],
 "metadata": {
  "colab": {
   "collapsed_sections": [],
   "name": "Exercise 4",
   "provenance": []
  },
  "kernelspec": {
   "display_name": "Python 3",
   "language": "python",
   "name": "python3"
  },
  "language_info": {
   "codemirror_mode": {
    "name": "ipython",
    "version": 3
   },
   "file_extension": ".py",
   "mimetype": "text/x-python",
   "name": "python",
   "nbconvert_exporter": "python",
   "pygments_lexer": "ipython3",
   "version": "3.6.9"
  }
 },
 "nbformat": 4,
 "nbformat_minor": 1
}
