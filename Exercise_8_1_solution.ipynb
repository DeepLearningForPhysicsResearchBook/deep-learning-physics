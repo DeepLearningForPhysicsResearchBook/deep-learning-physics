{
 "cells": [
  {
   "cell_type": "markdown",
   "metadata": {},
   "source": [
    "# Solution Exercise 8.1\n",
    "### Classification of magnetic phases\n",
    "Imagine a 2- dimensional lattice arrangement of n×n magnetic dipole moments (spins) that can be in one of two states (+1 or −1, Ising model).\n",
    "With interactions between spins being short ranged, each spin interacts only with its four neighbors.\n",
    "The probability to find a spin in one of the orientations is a function of temperature T according to p ∼ exp (−a/T ), a = const.).\n",
    "\n",
    "At extremely low temperatures T → 0, neighboring spins have a very low probability of different orientations, so that a uniform overall state (ferromagnetic state) is adopted, characterized by +1 or −1.\n",
    "At very high temperatures T → ∞, a paramagnetic phase with random spin alignment results, yielding 50% of +1 and  0% of −1 orientations.\n",
    "Below a critical temperature 0 < T < Tc, stable ferromagnetic domains emerge, with both orientations being equally probable in the absence of an external magnetic field.\n",
    "The spin-spin correlation function diverges at Tc, whereas the correlation decays for T > Tc.\n",
    "\n",
    "The data for this task contain the n × n dipole orientations on the lattice for different temperatures T.\n",
    "Classify the two magnetic phases (paramagnetic/ferromagnetic)!"
   ]
  },
  {
   "cell_type": "code",
   "execution_count": 2,
   "metadata": {},
   "outputs": [
    {
     "name": "stdout",
     "output_type": "stream",
     "text": [
      "keras 2.4.0\n"
     ]
    }
   ],
   "source": [
    "from tensorflow import keras\n",
    "import numpy as np\n",
    "callbacks = keras.callbacks\n",
    "layers = keras.layers\n",
    "\n",
    "print(\"keras\", keras.__version__)"
   ]
  },
  {
   "cell_type": "markdown",
   "metadata": {},
   "source": [
    "### Load and prepare dataset\n",
    "See https://doi.org/10.1038/nphys4035 for more information"
   ]
  },
  {
   "cell_type": "code",
   "execution_count": 3,
   "metadata": {},
   "outputs": [],
   "source": [
    "import gdown\n",
    "url = \"https://drive.google.com/u/0/uc?export=download&confirm=HgGH&id=1Ihxt1hb3Kyv0IrjHlsYb9x9QY7l7n2Sl\"\n",
    "output = 'ising_data.npz'\n",
    "gdown.download(url, output, quiet=True)\n",
    "\n",
    "f = np.load(output)\n",
    "n_train = 20000\n",
    "\n",
    "x_train, x_test = f[\"C\"][:n_train], f[\"C\"][n_train:]\n",
    "T_train, T_test = f[\"T\"][:n_train], f[\"T\"][n_train:]"
   ]
  },
  {
   "cell_type": "markdown",
   "metadata": {},
   "source": [
    "### Plot data"
   ]
  },
  {
   "cell_type": "code",
   "execution_count": 4,
   "metadata": {},
   "outputs": [
    {
     "data": {
      "image/png": "[encoded data removed]",
      "text/plain": [
       "<Figure size 432x288 with 6 Axes>"
      ]
     },
     "metadata": {
      "needs_background": "light"
     },
     "output_type": "display_data"
    }
   ],
   "source": [
    "import matplotlib.pyplot as plt\n",
    "\n",
    "for i,j in enumerate(np.random.choice(n_train, 6)):\n",
    "    plt.subplot(2,3,i+1)\n",
    "    image = x_train[j]\n",
    "    plot = plt.imshow(image)\n",
    "    plt.title(\"T: %.2f\" % T_train[j])\n",
    "\n",
    "plt.tight_layout()\n",
    "plt.show()"
   ]
  },
  {
   "cell_type": "code",
   "execution_count": 4,
   "metadata": {},
   "outputs": [
    {
     "data": {
      "text/plain": [
       "Text(0, 0.5, 'frequency')"
      ]
     },
     "execution_count": 4,
     "metadata": {},
     "output_type": "execute_result"
    },
    {
     "data": {
      "image/png": "[encoded data removed]",
      "text/plain": [
       "<Figure size 432x288 with 1 Axes>"
      ]
     },
     "metadata": {
      "needs_background": "light"
     },
     "output_type": "display_data"
    }
   ],
   "source": [
    "plt.hist(T_test)\n",
    "plt.xlabel(\"T\")\n",
    "plt.ylabel(\"frequency\")"
   ]
  },
  {
   "cell_type": "markdown",
   "metadata": {},
   "source": [
    "#### Set up training data - define magnetic phases"
   ]
  },
  {
   "cell_type": "code",
   "execution_count": 5,
   "metadata": {},
   "outputs": [],
   "source": [
    "Tc = 2.27\n",
    "y_train, y_test = T_train > Tc, T_test > Tc"
   ]
  },
  {
   "cell_type": "markdown",
   "metadata": {},
   "source": [
    " ### Task\n",
    "\n",
    " - evaluate the test accuracy for a convolutional network,\n",
    " - plot the test accuracy vs. temperature.\n",
    " - compare to the results obtained using a fully-connected network (Exercise 7.1)"
   ]
  },
  {
   "cell_type": "code",
   "execution_count": 6,
   "metadata": {},
   "outputs": [
    {
     "name": "stdout",
     "output_type": "stream",
     "text": [
      "Model: \"sequential\"\n",
      "_________________________________________________________________\n",
      "Layer (type)                 Output Shape              Param #   \n",
      "=================================================================\n",
      "reshape (Reshape)            (None, 32, 32, 1)         0         \n",
      "_________________________________________________________________\n",
      "conv2d (Conv2D)              (None, 32, 32, 16)        160       \n",
      "_________________________________________________________________\n",
      "conv2d_1 (Conv2D)            (None, 32, 32, 16)        2320      \n",
      "_________________________________________________________________\n",
      "max_pooling2d (MaxPooling2D) (None, 16, 16, 16)        0         \n",
      "_________________________________________________________________\n",
      "conv2d_2 (Conv2D)            (None, 16, 16, 32)        4640      \n",
      "_________________________________________________________________\n",
      "conv2d_3 (Conv2D)            (None, 16, 16, 32)        9248      \n",
      "_________________________________________________________________\n",
      "global_average_pooling2d (Gl (None, 32)                0         \n",
      "_________________________________________________________________\n",
      "dropout (Dropout)            (None, 32)                0         \n",
      "_________________________________________________________________\n",
      "dense (Dense)                (None, 1)                 33        \n",
      "=================================================================\n",
      "Total params: 16,401\n",
      "Trainable params: 16,401\n",
      "Non-trainable params: 0\n",
      "_________________________________________________________________\n"
     ]
    }
   ],
   "source": [
    "model = keras.models.Sequential()\n",
    "model.add(layers.InputLayer(input_shape=(32, 32)))\n",
    "model.add(layers.Reshape((32, 32,1)))\n",
    "model.add(layers.Convolution2D(16, (3, 3), padding='same', activation='relu'))\n",
    "model.add(layers.Convolution2D(16, (3, 3), padding='same', activation='relu'))\n",
    "model.add(layers.MaxPooling2D((2, 2)))\n",
    "model.add(layers.Convolution2D(32, (3, 3), padding='same', activation='relu'))\n",
    "model.add(layers.Convolution2D(32, (3, 3), padding='same', activation='relu'))\n",
    "model.add(layers.GlobalAveragePooling2D())\n",
    "model.add(layers.Dropout(0.25))\n",
    "model.add(layers.Dense(1, activation='sigmoid'))\n",
    "\n",
    "model.summary()"
   ]
  },
  {
   "cell_type": "markdown",
   "metadata": {},
   "source": [
    "### prepare model for training"
   ]
  },
  {
   "cell_type": "code",
   "execution_count": 7,
   "metadata": {},
   "outputs": [],
   "source": [
    "model.compile(\n",
    "    loss='binary_crossentropy',\n",
    "    optimizer=keras.optimizers.Adam(0.001),\n",
    "    metrics=['accuracy'])\n"
   ]
  },
  {
   "cell_type": "code",
   "execution_count": 8,
   "metadata": {},
   "outputs": [
    {
     "name": "stdout",
     "output_type": "stream",
     "text": [
      "Epoch 1/50\n",
      "563/563 - 15s - loss: 0.0711 - accuracy: 0.9693 - val_loss: 0.0504 - val_accuracy: 0.9810\n",
      "Epoch 2/50\n",
      "563/563 - 13s - loss: 0.0483 - accuracy: 0.9800 - val_loss: 0.0499 - val_accuracy: 0.9745\n",
      "Epoch 3/50\n",
      "563/563 - 12s - loss: 0.0466 - accuracy: 0.9804 - val_loss: 0.0444 - val_accuracy: 0.9810\n",
      "Epoch 4/50\n",
      "563/563 - 12s - loss: 0.0476 - accuracy: 0.9804 - val_loss: 0.0416 - val_accuracy: 0.9840\n",
      "Epoch 5/50\n",
      "563/563 - 12s - loss: 0.0448 - accuracy: 0.9820 - val_loss: 0.0398 - val_accuracy: 0.9815\n",
      "Epoch 6/50\n",
      "563/563 - 13s - loss: 0.0438 - accuracy: 0.9817 - val_loss: 0.0463 - val_accuracy: 0.9795\n",
      "Epoch 7/50\n",
      "563/563 - 13s - loss: 0.0443 - accuracy: 0.9814 - val_loss: 0.0397 - val_accuracy: 0.9815\n",
      "\n",
      "Epoch 00007: ReduceLROnPlateau reducing learning rate to 0.0006700000318232924.\n",
      "Epoch 8/50\n",
      "563/563 - 14s - loss: 0.0411 - accuracy: 0.9835 - val_loss: 0.0392 - val_accuracy: 0.9845\n",
      "Epoch 9/50\n",
      "563/563 - 13s - loss: 0.0411 - accuracy: 0.9822 - val_loss: 0.0443 - val_accuracy: 0.9810\n",
      "Epoch 10/50\n",
      "563/563 - 13s - loss: 0.0418 - accuracy: 0.9818 - val_loss: 0.0367 - val_accuracy: 0.9860\n",
      "Epoch 11/50\n",
      "563/563 - 12s - loss: 0.0400 - accuracy: 0.9828 - val_loss: 0.0422 - val_accuracy: 0.9840\n",
      "Epoch 12/50\n",
      "563/563 - 13s - loss: 0.0412 - accuracy: 0.9827 - val_loss: 0.0410 - val_accuracy: 0.9810\n",
      "\n",
      "Epoch 00012: ReduceLROnPlateau reducing learning rate to 0.0004489000252215192.\n",
      "Epoch 13/50\n",
      "563/563 - 13s - loss: 0.0393 - accuracy: 0.9836 - val_loss: 0.0387 - val_accuracy: 0.9855\n",
      "Epoch 14/50\n",
      "563/563 - 13s - loss: 0.0391 - accuracy: 0.9824 - val_loss: 0.0363 - val_accuracy: 0.9825\n",
      "Epoch 15/50\n",
      "563/563 - 12s - loss: 0.0402 - accuracy: 0.9829 - val_loss: 0.0359 - val_accuracy: 0.9845\n",
      "Epoch 16/50\n",
      "563/563 - 12s - loss: 0.0410 - accuracy: 0.9823 - val_loss: 0.0360 - val_accuracy: 0.9845\n",
      "Epoch 17/50\n",
      "563/563 - 12s - loss: 0.0385 - accuracy: 0.9832 - val_loss: 0.0374 - val_accuracy: 0.9835\n",
      "\n",
      "Epoch 00017: ReduceLROnPlateau reducing learning rate to 0.0003007630087086.\n",
      "Epoch 18/50\n",
      "563/563 - 12s - loss: 0.0384 - accuracy: 0.9839 - val_loss: 0.0369 - val_accuracy: 0.9845\n",
      "Epoch 19/50\n",
      "563/563 - 12s - loss: 0.0379 - accuracy: 0.9832 - val_loss: 0.0433 - val_accuracy: 0.9830\n",
      "\n",
      "Epoch 00019: ReduceLROnPlateau reducing learning rate to 0.0002015112101798877.\n",
      "Epoch 20/50\n",
      "563/563 - 13s - loss: 0.0384 - accuracy: 0.9835 - val_loss: 0.0366 - val_accuracy: 0.9850\n",
      "Epoch 00020: early stopping\n"
     ]
    }
   ],
   "source": [
    "history = model.fit(\n",
    "    x_train, y_train,\n",
    "    batch_size=32,\n",
    "    epochs=50,\n",
    "    verbose=2,\n",
    "    validation_split=0.1,\n",
    "    callbacks=[\n",
    "        callbacks.EarlyStopping(patience=5, verbose=1),\n",
    "        callbacks.ReduceLROnPlateau(factor=0.67, patience=2, verbose=1)]\n",
    ")"
   ]
  },
  {
   "cell_type": "markdown",
   "metadata": {},
   "source": [
    "### Evaluate training"
   ]
  },
  {
   "cell_type": "code",
   "execution_count": 11,
   "metadata": {},
   "outputs": [
    {
     "data": {
      "text/plain": [
       "<matplotlib.lines.Line2D at 0x7f5d67ff1b00>"
      ]
     },
     "execution_count": 11,
     "metadata": {},
     "output_type": "execute_result"
    },
    {
     "data": {
      "image/png": "[encoded data removed]",
      "text/plain": [
       "<Figure size 432x288 with 1 Axes>"
      ]
     },
     "metadata": {
      "needs_background": "light"
     },
     "output_type": "display_data"
    }
   ],
   "source": [
    "import seaborn as sns\n",
    "\n",
    "preds = model.predict(x_test).round().squeeze()\n",
    "acc = (preds == y_test).astype(np.float)\n",
    "\n",
    "ax = sns.regplot(x=T_test, y=acc, x_estimator= np.mean, fit_reg=False)\n",
    "ax.set_ylabel(\"accuracy\")\n",
    "ax.set_xlabel(\"T\")\n",
    "plt.axvline(x=Tc, color='k', linestyle='--', label='Tc')"
   ]
  }
 ],
 "metadata": {
  "kernelspec": {
   "display_name": "Python 3",
   "language": "python",
   "name": "python3"
  },
  "language_info": {
   "codemirror_mode": {
    "name": "ipython",
    "version": 3
   },
   "file_extension": ".py",
   "mimetype": "text/x-python",
   "name": "python",
   "nbconvert_exporter": "python",
   "pygments_lexer": "ipython3",
   "version": "3.6.9"
  }
 },
 "nbformat": 4,
 "nbformat_minor": 4
}
