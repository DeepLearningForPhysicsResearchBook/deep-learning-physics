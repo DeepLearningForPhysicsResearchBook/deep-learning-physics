{
 "cells": [
  {
   "cell_type": "markdown",
   "metadata": {
    "id": "jLCfvrxgrNPX"
   },
   "source": [
    "# Exercise 18.2\n",
    "## Generation of air-shower footprints using WGAN\n",
    "In this tutorial we will learn how to implement Wasserstein GANs (WGAN) using tensorflow.keras.\n",
    "\n",
    "Recall the description of a cosmic-ray observatory in Example 11.2 and Fig. 11.2b.\n",
    "In response to a cosmic-ray-induced air shower, a small part of the detector stations is traversed by shower particles leading to characteristic arrival patterns (dubbed footprints, see Fig. 18.13).\n",
    "The number of triggered stations increases with the cosmic-ray energy.\n",
    "The signal response is largest close to the center of the shower.\n",
    "\n",
    "#### Tasks\n",
    " 1. Build a generator and a critic network which allows for the generation of $9 \\times 9$ air-shower footprints.\n",
    " 2. Set up the training by implementing the Wasserstein loss using the Kantorovich-Rubinstein duality.  \n",
    " 3. Implement the main loop and train the framework for 15 epochs. Check the plots of the critic loss and generated air shower footprints.\n",
    " 4. Name four general challenges of training adversarial frameworks.\n",
    " 5. Explain why approximating the Wasserstein distance in the discriminator/critic helps to reduce mode collapsing.\n",
    "\n",
    "This approach is a simplified version of: https://link.springer.com/article/10.1007/s41781-018-0008-x\n",
    "\n",
    "Training WGAN can be computationally demanding, thus, we recommend to use a GPU for this task."
   ]
  },
  {
   "cell_type": "markdown",
   "metadata": {
    "id": "_Oc-7BCDrNPZ"
   },
   "source": [
    "### Software\n",
    "First we have to import our software. Used versions:"
   ]
  },
  {
   "cell_type": "code",
   "execution_count": null,
   "metadata": {
    "colab": {
     "base_uri": "https://localhost:8080/"
    },
    "id": "kCa9SQGrrNPZ",
    "outputId": "8d2f9bb6-453e-4310-86c8-f0475288f86f"
   },
   "outputs": [],
   "source": [
    "import numpy as np\n",
    "from tensorflow import keras\n",
    "import matplotlib.pyplot as plt\n",
    "import tensorflow as tf\n",
    "tf.compat.v1.disable_eager_execution()  # gp loss won't work with eager\n",
    "layers = keras.layers\n",
    "\n",
    "print(\"tensorflow version\", tf.__version__)\n",
    "print(\"keras version\", keras.__version__)"
   ]
  },
  {
   "cell_type": "markdown",
   "metadata": {
    "id": "iin22Ul8rNPc"
   },
   "source": [
    "## Data\n",
    "To train our generative model we need some data. In this case we want to generate cosmic-ray induced air showers.  The showers were simulated using https://doi.org/10.1016/j.astropartphys.2017.10.006"
   ]
  },
  {
   "cell_type": "code",
   "execution_count": null,
   "metadata": {
    "colab": {
     "base_uri": "https://localhost:8080/",
     "height": 36
    },
    "id": "PZwKf8QyrNPc",
    "outputId": "2f2401b9-c2e2-4cc2-e675-b38330c37482"
   },
   "outputs": [],
   "source": [
    "import gdown\n",
    "\n",
    "url = \"https://drive.google.com/u/0/uc?export=download&confirm=HgGH&id=1JfuYem6sXQSE3SYecHnNk5drtC7YKoYz\"\n",
    "output = 'airshowers.npz'\n",
    "gdown.download(url, output, quiet=True)"
   ]
  },
  {
   "cell_type": "code",
   "execution_count": null,
   "metadata": {
    "id": "657Ia0jArNPc"
   },
   "outputs": [],
   "source": [
    "file = np.load(output)\n",
    "shower_maps = file['shower_maps']\n",
    "nsamples = len(shower_maps)"
   ]
  },
  {
   "cell_type": "markdown",
   "metadata": {
    "id": "NSDISiI4rNPe"
   },
   "source": [
    "Now, we can have a look at some random footprints of the data set."
   ]
  },
  {
   "cell_type": "code",
   "execution_count": 7,
   "metadata": {
    "colab": {
     "base_uri": "https://localhost:8080/",
     "height": 297
    },
    "id": "S7quv3oprNPe",
    "outputId": "10149c08-48ea-443a-e8d2-cac6460f130f"
   },
   "outputs": [
    {
     "data": {
      "image/png": "[encoded data removed]",
      "text/plain": [
       "<Figure size 432x288 with 8 Axes>"
      ]
     },
     "metadata": {
      "needs_background": "light"
     },
     "output_type": "display_data"
    }
   ],
   "source": [
    "def rectangular_array(n=9):\n",
    "    \"\"\" Return x,y coordinates for rectangular array with n^2 stations. \"\"\"\n",
    "    n0 = (n - 1) / 2\n",
    "    return (np.mgrid[0:n, 0:n].astype(float) - n0)\n",
    "\n",
    "\n",
    "for i,j in enumerate(np.random.choice(nsamples, 4)):\n",
    "    plt.subplot(2,2,i+1)\n",
    "    footprint=shower_maps[j,...,0]\n",
    "    xd, yd = rectangular_array()\n",
    "    mask = footprint != 0\n",
    "    mask[5, 5] = True\n",
    "    marker_size = 50 * footprint[mask]\n",
    "    plot = plt.scatter(xd, yd, c='grey', s=10, alpha=0.3, label=\"silent\")\n",
    "    circles = plt.scatter(xd[mask], yd[mask], c=footprint[mask],\n",
    "                           s=marker_size, alpha=1, label=\"loud\")\n",
    "    cbar = plt.colorbar(circles)\n",
    "    cbar.set_label('signal [a.u.]')\n",
    "    plt.grid(True)\n",
    "\n",
    "plt.tight_layout()\n",
    "plt.show()"
   ]
  },
  {
   "cell_type": "markdown",
   "metadata": {
    "id": "voaMgctlrNPe"
   },
   "source": [
    "## Wasserstein GANs\n",
    "To overcome the meaningless loss and vanishing gradients, [Arjovsky, Chintala and Bottou](https://arxiv.org/abs/1701.07875) proposed to use Wasserstein-1 as a metric in the discriminator.\n",
    "\n",
    "Using the Wasserstein distance as a metric has several advantages in comparison to the old min-max loss. The crucial feature of the Wasserstein distance is a meaningful distance measure even when distributions are disjunct. But before coming to the essential difference, let us try to understand the Wasserstein distance."
   ]
  },
  {
   "cell_type": "markdown",
   "metadata": {
    "id": "DbpxbWzCrNPf"
   },
   "source": [
    "### Generator\n",
    "For training GANs we need to further define our generator and discriminator network. We start by defining our generator network, which should map from our noise + label space into the space of images (latent-vector size --> image size). Adding the label the input of to both the generator and discriminator should enforce the generator to produce samples from the according class."
   ]
  },
  {
   "cell_type": "markdown",
   "metadata": {
    "id": "qwEBqLTJrNPg"
   },
   "source": [
    "#### Task\n",
    "Design a meaningful generator model!  \n",
    "Remember to check the latent and image dimensions. You can make use of the 'DCGAN guidelines' (See Sec. 18.2.3).\n",
    "Use a meaningful last activation function!"
   ]
  },
  {
   "cell_type": "code",
   "execution_count": null,
   "metadata": {
    "id": "XyXSTz58rNPg"
   },
   "outputs": [],
   "source": [
    "def generator_model(latent_size):\n",
    "    \"\"\" Generator network \"\"\"\n",
    "\n",
    "\n",
    "    return keras.models.Model(latent, z, name=\"generator\")"
   ]
  },
  {
   "cell_type": "markdown",
   "metadata": {
    "id": "9aOBttl5rNPg"
   },
   "source": [
    "Now we can build and check the shapes of our generator."
   ]
  },
  {
   "cell_type": "code",
   "execution_count": null,
   "metadata": {
    "colab": {
     "base_uri": "https://localhost:8080/"
    },
    "id": "PmINju34rNPg",
    "outputId": "d40bcd7f-8b4f-4978-d741-d110bd40b185"
   },
   "outputs": [],
   "source": [
    "latent_size = 128\n",
    "g = generator_model(latent_size)\n",
    "g.summary()"
   ]
  },
  {
   "cell_type": "markdown",
   "metadata": {
    "id": "lfASQfeorNPh"
   },
   "source": [
    "### Critic / Discriminator\n",
    "The task of the discriminator is to measure the similarity between the fake images (output of the generator) and the real images. So, the network maps from the image space into a 1D space where we can measure the 'distance' between the distributions of the real and generated images (image size --> scalar). Also, here we add the class label to the discriminator.\n",
    "\n",
    "#### Task\n",
    "Design a power- and meaningful critic model! Remember that you can make use of the DCGAN guidelines and check the image dimensions.\n",
    "Do we need a \"special\" last activation function in the critic?"
   ]
  },
  {
   "cell_type": "code",
   "execution_count": null,
   "metadata": {
    "id": "-RGjRFIErNPi"
   },
   "outputs": [],
   "source": [
    "def critic_model():\n",
    "    \"\"\" Critic network \"\"\"\n",
    "\n",
    "    return keras.models.Model(image, x, name=\"critic\")"
   ]
  },
  {
   "cell_type": "markdown",
   "metadata": {
    "id": "bbSFKoCerNPi"
   },
   "source": [
    "Let us now build and inspect the critic."
   ]
  },
  {
   "cell_type": "code",
   "execution_count": null,
   "metadata": {
    "colab": {
     "base_uri": "https://localhost:8080/"
    },
    "id": "GwgSOjCkrNPi",
    "outputId": "9d37acba-df51-4da7-fe96-86a7deb2cb4b"
   },
   "outputs": [],
   "source": [
    "critic = critic_model()\n",
    "critic.summary()"
   ]
  },
  {
   "cell_type": "markdown",
   "metadata": {
    "id": "WHH6tNHkrNPi"
   },
   "source": [
    "## Training piplines\n",
    "Below we have to design the pipelines for training the adversarial framework. "
   ]
  },
  {
   "cell_type": "code",
   "execution_count": null,
   "metadata": {
    "id": "9bc4CUC3rNPi"
   },
   "outputs": [],
   "source": [
    "def make_trainable(model, trainable):\n",
    "    ''' Freezes/unfreezes the weights in the given model '''\n",
    "    for layer in model.layers:\n",
    "        # print(type(layer))\n",
    "        if type(layer) is layers.BatchNormalization:\n",
    "            layer.trainable = True\n",
    "        else:\n",
    "            layer.trainable = trainable"
   ]
  },
  {
   "cell_type": "markdown",
   "metadata": {
    "id": "9NsGMWYQrNPi"
   },
   "source": [
    "Note that after we compiled a model, calling `make_trainable` will have no effect until we compile the model again."
   ]
  },
  {
   "cell_type": "markdown",
   "metadata": {
    "id": "hh1vHPBSrNPi"
   },
   "source": [
    "Freeze the critic during the generator training and unfreeze the generator during the generator training"
   ]
  },
  {
   "cell_type": "code",
   "execution_count": null,
   "metadata": {
    "id": "SabELgl3rNPj"
   },
   "outputs": [],
   "source": [
    "make_trainable(critic, False) \n",
    "make_trainable(g, True) # This is in principal not needed here"
   ]
  },
  {
   "cell_type": "markdown",
   "metadata": {
    "id": "dCWBEKcorNPj"
   },
   "source": [
    "Now, we stack the generator on top of the critic and finalize the generator-training step."
   ]
  },
  {
   "cell_type": "code",
   "execution_count": null,
   "metadata": {
    "colab": {
     "base_uri": "https://localhost:8080/"
    },
    "id": "M-zL_5tYrNPj",
    "outputId": "a82a240a-17c3-4306-a34e-0d15e639ac16"
   },
   "outputs": [],
   "source": [
    "gen_input = g.inputs\n",
    "generator_training = keras.models.Model(gen_input, critic(g(gen_input)))\n",
    "generator_training.summary()"
   ]
  },
  {
   "cell_type": "markdown",
   "metadata": {
    "id": "d765RY6brNPk"
   },
   "source": [
    "We can further visualize this simple \"computational graph\"."
   ]
  },
  {
   "cell_type": "code",
   "execution_count": null,
   "metadata": {
    "colab": {
     "base_uri": "https://localhost:8080/",
     "height": 312
    },
    "id": "msyfTsVJrNPk",
    "outputId": "10621acb-4271-4916-b456-408325e5f7e6"
   },
   "outputs": [],
   "source": [
    "keras.utils.plot_model(generator_training, show_shapes=True)"
   ]
  },
  {
   "cell_type": "markdown",
   "metadata": {
    "id": "b2thV6eOrNPk"
   },
   "source": [
    "#### Task\n",
    " - implement the Wasserstein loss"
   ]
  },
  {
   "cell_type": "code",
   "execution_count": null,
   "metadata": {
    "id": "2BbBke0wrNPk"
   },
   "outputs": [],
   "source": [
    "import tensorflow.keras.backend as K\n",
    "\n",
    "def wasserstein_loss(y_true, y_pred):\n",
    "    return \n",
    "\n",
    "generator_training.compile(keras.optimizers.Adam(0.0001, beta_1=0.5, beta_2=0.9, decay=0.0), loss=[wasserstein_loss])"
   ]
  },
  {
   "cell_type": "markdown",
   "metadata": {
    "id": "M_7mARHNrNPl"
   },
   "source": [
    "### Gradient penalty\n",
    "To obtain the final Wasserstein distance, we have to use the gradient penalty to enforce the Lipschitz constraint.\n",
    "\n",
    "Therefore, we need to design a layer that samples on straight lines between reals and fakes samples "
   ]
  },
  {
   "cell_type": "code",
   "execution_count": null,
   "metadata": {
    "id": "VyjMTSgtrNPl"
   },
   "outputs": [],
   "source": [
    "BATCH_SIZE = 128\n",
    "\n",
    "class UniformLineSampler(tf.keras.layers.Layer):\n",
    "    def __init__(self, batch_size):\n",
    "        super().__init__()\n",
    "        self.batch_size = batch_size\n",
    "\n",
    "    def call(self, inputs, **kwargs):\n",
    "        weights = K.random_uniform((self.batch_size, 1, 1, 1))\n",
    "        return(weights * inputs[0]) + ((1 - weights) * inputs[1])\n",
    "\n",
    "    def compute_output_shape(self, input_shape):\n",
    "        return input_shape[0]"
   ]
  },
  {
   "cell_type": "markdown",
   "metadata": {
    "id": "ARLKuVd0rNPl"
   },
   "source": [
    "We design the pipeline of the critic training by inserting generated (use generator + noise directly to circumvent expensive prediction step) and real samples into the sampling layer and additionally feeding generated and real samples into the critic."
   ]
  },
  {
   "cell_type": "code",
   "execution_count": null,
   "metadata": {
    "id": "6D7zcsWErNPl"
   },
   "outputs": [],
   "source": [
    "make_trainable(critic, True)  # unfreeze the critic during the critic training\n",
    "make_trainable(g, False)  # freeze the generator during the critic training\n",
    "\n",
    "g_out = g(g.inputs)\n",
    "critic_out_fake_samples = critic(g_out)\n",
    "critic_out_data_samples = critic(critic.inputs)\n",
    "averaged_batch = UniformLineSampler(BATCH_SIZE)([g_out, critic.inputs[0]])\n",
    "averaged_batch_out = critic(averaged_batch)\n",
    "\n",
    "critic_training = keras.models.Model(inputs=[g.inputs, critic.inputs], outputs=[critic_out_fake_samples, critic_out_data_samples, averaged_batch_out])"
   ]
  },
  {
   "cell_type": "markdown",
   "metadata": {
    "id": "xXskjxTtrNPl"
   },
   "source": [
    "Let us visualize this \"computational graph\". The critic outputs will be used for the Wasserstein loss and the `UniformLineSampler` output for the gradient penalty."
   ]
  },
  {
   "cell_type": "code",
   "execution_count": null,
   "metadata": {
    "colab": {
     "base_uri": "https://localhost:8080/",
     "height": 422
    },
    "id": "q8kzVv5-rNPm",
    "outputId": "aa5be2a6-359d-46e0-e2eb-adcb06cc53b4"
   },
   "outputs": [],
   "source": [
    "keras.utils.plot_model(critic_training, show_shapes=True)"
   ]
  },
  {
   "cell_type": "code",
   "execution_count": null,
   "metadata": {
    "colab": {
     "base_uri": "https://localhost:8080/"
    },
    "id": "G9WcnuNLrNPm",
    "outputId": "d450187d-bbe4-4403-f688-118aadc070be"
   },
   "outputs": [],
   "source": [
    "critic_training.summary()"
   ]
  },
  {
   "cell_type": "markdown",
   "metadata": {
    "id": "IULFk5ykrNPn"
   },
   "source": [
    "We now design the gradient penalty as proposed by in https://arxiv.org/abs/1704.00028"
   ]
  },
  {
   "cell_type": "code",
   "execution_count": null,
   "metadata": {
    "id": "csNT3Jx7rNPn"
   },
   "outputs": [],
   "source": [
    "from functools import partial\n",
    "\n",
    "def gradient_penalty_loss(y_true, y_pred, averaged_batch, penalty_weight):\n",
    "    \"\"\"Calculates the gradient penalty.\n",
    "    The 1-Lipschitz constraint of improved WGANs is enforced by adding a term that penalizes a gradient norm in the critic unequal to 1.\"\"\"\n",
    "    gradients = K.gradients(y_pred, averaged_batch)\n",
    "    gradients_sqr_sum = K.sum(K.square(gradients)[0], axis=(1, 2, 3))\n",
    "    gradient_penalty = penalty_weight * K.square(1 - K.sqrt(gradients_sqr_sum))\n",
    "    return K.mean(gradient_penalty)\n",
    "\n",
    "\n",
    "gradient_penalty = partial(gradient_penalty_loss, averaged_batch=averaged_batch, penalty_weight=10)  # construct the gradient penalty\n",
    "gradient_penalty.__name__ = 'gradient_penalty'"
   ]
  },
  {
   "cell_type": "markdown",
   "metadata": {
    "id": "QCj2xws1rNPn"
   },
   "source": [
    "Let us compile the critic. The losses have to be given in the order as we designed the model outputs (gradient penalty connected to the output of the sampling layer)."
   ]
  },
  {
   "cell_type": "code",
   "execution_count": null,
   "metadata": {
    "id": "of1nxW_MrNPo"
   },
   "outputs": [],
   "source": [
    "critic_training.compile(keras.optimizers.Adam(0.0001, beta_1=0.5, beta_2=0.9, decay=0.0), loss=[wasserstein_loss, wasserstein_loss, gradient_penalty])"
   ]
  },
  {
   "cell_type": "markdown",
   "metadata": {
    "id": "z6bNJh9DrNPo"
   },
   "source": [
    "The labels for the training are (Remember we used as for the Wasserstein loss a simple multiplication to add a sign.)"
   ]
  },
  {
   "cell_type": "code",
   "execution_count": null,
   "metadata": {
    "id": "cAp4NWkCrNPo"
   },
   "outputs": [],
   "source": [
    "positive_y = np.ones(BATCH_SIZE)\n",
    "negative_y = -positive_y\n",
    "dummy = np.zeros(BATCH_SIZE)  # keras throws an error when calculating a loss without having a label -> needed for using the gradient penalty loss"
   ]
  },
  {
   "cell_type": "markdown",
   "metadata": {
    "id": "EM5pL3QvrNPo"
   },
   "source": [
    "### Training\n",
    "We can now start the training loop.\n",
    "In the WGAN setup, the critic is trained several times before the generator is updated.\n",
    "\n",
    "#### Task\n",
    " - Implement the main loop.\n",
    " - Choose a reasonable number of `EPOCHS` until you see a cood convergence.\n",
    " - Choose a meaningful number of `critic_iterations`."
   ]
  },
  {
   "cell_type": "code",
   "execution_count": null,
   "metadata": {
    "colab": {
     "base_uri": "https://localhost:8080/"
    },
    "id": "1QjWP05WrNPp",
    "outputId": "a5d08d08-2eef-4bf6-fa12-9da898d51fa6"
   },
   "outputs": [],
   "source": [
    "EPOCHS = 1\n",
    "critic_iterations = 1\n",
    "\n",
    "generator_loss = []\n",
    "critic_loss = []\n",
    "\n",
    "iterations_per_epoch = nsamples // (critic_iterations * BATCH_SIZE)\n",
    "iters = 0\n",
    "\n",
    "for epoch in range(EPOCHS):\n",
    "    print(\"epoch: \", epoch)  \n",
    "    \n",
    "    for iteration in range(iterations_per_epoch):\n",
    "\n",
    "        for j in range(critic_iterations):\n",
    "\n",
    "            # complete the main loop here\n",
    "        \n",
    "        generated_maps = g.predict_on_batch(np.random.randn(BATCH_SIZE, latent_size))\n",
    "        \n",
    "        if iters % 300 == 1:\n",
    "            print(\"iteration\", iters)\n",
    "            print(\"critic loss:\", critic_loss[-1])\n",
    "            print(\"generator loss:\", generator_loss[-1])\n",
    "\n",
    "            for i in range(4):\n",
    "                plt.subplot(2,2,i+1)\n",
    "                footprint=generated_maps[i,...,0]\n",
    "                xd, yd = rectangular_array()\n",
    "                mask = footprint != 0\n",
    "                mask[5, 5] = True\n",
    "                marker_size = 50 * footprint[mask]\n",
    "                plot = plt.scatter(xd, yd, c='grey', s=10, alpha=0.3, label=\"silent\")\n",
    "                circles = plt.scatter(xd[mask], yd[mask], c=footprint[mask],\n",
    "                                       s=marker_size, alpha=1, label=\"loud\")\n",
    "                cbar = plt.colorbar(circles)\n",
    "                cbar.set_label('signal [a.u.]')\n",
    "                plt.grid(True)\n",
    "\n",
    "            plt.suptitle(\"iteration %i\" % iters)\n",
    "            plt.tight_layout(rect=[0, 0.03, 1, 0.95])\n",
    "            plt.savefig(\"./fake_showers_iteration_%.6i.png\" % iters)\n",
    "            plt.close(\"all\")"
   ]
  },
  {
   "cell_type": "markdown",
   "metadata": {
    "id": "WU732pJQrNPp"
   },
   "source": [
    "### Results\n",
    "Let us plot the critic loss.\n",
    "We now expect to see a convergence of the total loss if the training was successful."
   ]
  },
  {
   "cell_type": "code",
   "execution_count": null,
   "metadata": {
    "colab": {
     "base_uri": "https://localhost:8080/",
     "height": 338
    },
    "id": "7eFNdrXQrNPp",
    "outputId": "7b0a6504-45b1-40ac-a72a-8ae5e47165eb"
   },
   "outputs": [],
   "source": [
    "critic_loss = np.array(critic_loss)\n",
    "\n",
    "plt.subplots(1, figsize=(10, 5))\n",
    "plt.plot(np.arange(len(critic_loss)), critic_loss[:, 0], color='red', markersize=12, label=r'Total')\n",
    "plt.plot(np.arange(len(critic_loss)), critic_loss[:, 1] + critic_loss[:, 2], color='green', label=r'Wasserstein', linestyle='dashed')\n",
    "plt.plot(np.arange(len(critic_loss)), critic_loss[:, 3], color='royalblue', markersize=12, label=r'GradientPenalty', linestyle='dashed')\n",
    "plt.legend(loc='upper right')\n",
    "plt.xlabel(r'Iterations')\n",
    "plt.ylabel(r'Loss')\n",
    "plt.ylim(-6, 3)\n",
    "plt.show()"
   ]
  },
  {
   "cell_type": "markdown",
   "metadata": {
    "id": "ngwT2RTerNPp"
   },
   "source": [
    "In addition, we can visualize the generator loss."
   ]
  },
  {
   "cell_type": "code",
   "execution_count": null,
   "metadata": {
    "colab": {
     "base_uri": "https://localhost:8080/",
     "height": 334
    },
    "id": "U17GdD5RrNPp",
    "outputId": "fcbbeb8a-ba42-42ee-9b5c-2fc7981f671d"
   },
   "outputs": [],
   "source": [
    "generator_loss = np.array(generator_loss)\n",
    "\n",
    "plt.subplots(1, figsize=(10, 5))\n",
    "plt.plot(np.arange(len(generator_loss)), generator_loss, color='red', markersize=12, label=r'Total')\n",
    "plt.legend(loc='upper right')\n",
    "plt.xlabel(r'Iterations')\n",
    "plt.ylabel(r'Loss')\n",
    "plt.show()"
   ]
  },
  {
   "cell_type": "markdown",
   "metadata": {
    "id": "Ldj9t83XrNPq"
   },
   "source": [
    "#### Plot generated footprints\n",
    "To nicely see the training progress, we can create a gif of the generated samples during the training."
   ]
  },
  {
   "cell_type": "code",
   "execution_count": null,
   "metadata": {
    "colab": {
     "base_uri": "https://localhost:8080/",
     "height": 305
    },
    "id": "Y_CVBVfFrNPq",
    "outputId": "43c7a5f5-d21b-4995-be1e-526735ce8f86"
   },
   "outputs": [],
   "source": [
    "import imageio\n",
    "import glob\n",
    "\n",
    "out_file = 'generated_shower_samples.gif'\n",
    "\n",
    "with imageio.get_writer(out_file, mode='I', duration=0.5) as writer:\n",
    "    file_names = glob.glob('fake_showers_iteration_*.png')\n",
    "    file_names = sorted(file_names)\n",
    "    last = -1\n",
    "\n",
    "    for i, file_name in enumerate(file_names):\n",
    "        animated_image = imageio.imread(file_name)\n",
    "        writer.append_data(animated_image)\n",
    "\n",
    "    animated_image = imageio.imread(file_name)\n",
    "    writer.append_data(animated_image)\n",
    "\n",
    "from IPython.display import Image\n",
    "Image(open('generated_shower_samples.gif','rb').read())"
   ]
  },
  {
   "cell_type": "markdown",
   "metadata": {},
   "source": [
    "#### Name four general challenges of training generative adversarial frameworks."
   ]
  },
  {
   "cell_type": "markdown",
   "metadata": {},
   "source": [
    "####  Explain why approximating the wasserstein distance in the discriminator/critic helps to reduce mode collapsing."
   ]
  }
 ],
 "metadata": {
  "accelerator": "GPU",
  "colab": {
   "name": "WGAN.ipynb",
   "provenance": []
  },
  "kernelspec": {
   "display_name": "Python 3",
   "language": "python",
   "name": "python3"
  },
  "language_info": {
   "codemirror_mode": {
    "name": "ipython",
    "version": 3
   },
   "file_extension": ".py",
   "mimetype": "text/x-python",
   "name": "python",
   "nbconvert_exporter": "python",
   "pygments_lexer": "ipython3",
   "version": "3.6.9"
  }
 },
 "nbformat": 4,
 "nbformat_minor": 1
}
