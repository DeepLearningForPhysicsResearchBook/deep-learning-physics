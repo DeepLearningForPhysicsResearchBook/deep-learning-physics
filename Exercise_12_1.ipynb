{
 "cells": [
  {
   "cell_type": "markdown",
   "metadata": {},
   "source": [
    "# Exercise 12.1\n",
    "## Weights and activations of a convolutional network:\n",
    "This task consists of two parts. First, set up and evaluate a\n",
    "convolutional neural network.\n",
    " 1. Set up and train a convolutional network on the classification of images (data set CIFAR-10). Train your network to at least 70% test accuracy.\n",
    "  - Plot the confusion matrix. What do you observe?\n",
    "  - Plot several falsely classified images along with the predicted class scores. What kinds of misclassification do you observe, why do they occur?\n",
    " 2. Plot the filter weights in the first layer of your network and see if you can make any sense of it.\n",
    " 3. Visualize the activations in the first two layers of your network for two input images of choice and describe what you see.\n",
    "  - Does it meet your expectations?\n"
   ]
  },
  {
   "cell_type": "code",
   "execution_count": 2,
   "metadata": {},
   "outputs": [
    {
     "name": "stdout",
     "output_type": "stream",
     "text": [
      "keras 2.4.0\n"
     ]
    }
   ],
   "source": [
    "import tensorflow as tf\n",
    "from tensorflow import keras\n",
    "import numpy as np\n",
    "import matplotlib.pyplot as plt\n",
    "\n",
    "layers = keras.layers\n",
    "print(\"keras\", keras.__version__)"
   ]
  },
  {
   "cell_type": "markdown",
   "metadata": {},
   "source": [
    "### Download CIFAR-10 data"
   ]
  },
  {
   "cell_type": "code",
   "execution_count": 2,
   "metadata": {},
   "outputs": [],
   "source": [
    "(x_train, y_train), (x_test, y_test) = keras.datasets.cifar10.load_data()"
   ]
  },
  {
   "cell_type": "code",
   "execution_count": 3,
   "metadata": {},
   "outputs": [],
   "source": [
    "x_train = (x_train - 128.) / 128.\n",
    "x_test = (x_test - 128.) / 128."
   ]
  },
  {
   "cell_type": "code",
   "execution_count": 4,
   "metadata": {},
   "outputs": [],
   "source": [
    "y_train_one_hot = tf.keras.utils.to_categorical(y_train)\n",
    "y_test_one_hot = tf.keras.utils.to_categorical(y_test)"
   ]
  },
  {
   "cell_type": "markdown",
   "metadata": {},
   "source": [
    "### Design, train, and evaluate a simple CNN"
   ]
  },
  {
   "cell_type": "code",
   "execution_count": 5,
   "metadata": {},
   "outputs": [
    {
     "name": "stdout",
     "output_type": "stream",
     "text": [
      "Model: \"sequential\"\n",
      "_________________________________________________________________\n",
      "Layer (type)                 Output Shape              Param #   \n",
      "=================================================================\n",
      "conv2d (Conv2D)              (None, 32, 32, 36)        2736      \n",
      "_________________________________________________________________\n",
      "conv2d_1 (Conv2D)            (None, 32, 32, 36)        11700     \n",
      "_________________________________________________________________\n",
      "conv2d_2 (Conv2D)            (None, 16, 16, 64)        20800     \n",
      "_________________________________________________________________\n",
      "conv2d_3 (Conv2D)            (None, 16, 16, 64)        36928     \n",
      "_________________________________________________________________\n",
      "conv2d_4 (Conv2D)            (None, 8, 8, 128)         73856     \n",
      "_________________________________________________________________\n",
      "conv2d_5 (Conv2D)            (None, 8, 8, 128)         147584    \n",
      "_________________________________________________________________\n",
      "conv2d_6 (Conv2D)            (None, 4, 4, 128)         147584    \n",
      "_________________________________________________________________\n",
      "global_max_pooling2d (Global (None, 128)               0         \n",
      "_________________________________________________________________\n",
      "dropout (Dropout)            (None, 128)               0         \n",
      "_________________________________________________________________\n",
      "dense (Dense)                (None, 10)                1290      \n",
      "=================================================================\n",
      "Total params: 442,478\n",
      "Trainable params: 442,478\n",
      "Non-trainable params: 0\n",
      "_________________________________________________________________\n",
      "None\n"
     ]
    }
   ],
   "source": [
    "model = keras.models.Sequential([\n",
    "    layers.Convolution2D(36, kernel_size=(5, 5), padding=\"same\", activation='elu', input_shape=(32, 32, 3)),\n",
    "    layers.Convolution2D(36, kernel_size=(3, 3), padding=\"same\", activation='elu'),\n",
    "    layers.Convolution2D(64, kernel_size=(3, 3), padding=\"same\", strides=(2, 2), activation='elu'),\n",
    "    layers.Convolution2D(64, kernel_size=(3, 3), padding=\"same\", activation='elu'),\n",
    "    layers.Convolution2D(128, kernel_size=(3, 3), padding=\"same\", strides=(2, 2), activation='elu'),\n",
    "    layers.Convolution2D(128, kernel_size=(3, 3), padding=\"same\", activation='elu'),\n",
    "    layers.Convolution2D(128, kernel_size=(3, 3), padding=\"same\", strides=(2, 2), activation='elu'),\n",
    "    layers.GlobalMaxPooling2D(),\n",
    "    layers.Dropout(0.3),\n",
    "    layers.Dense(10, activation='softmax')\n",
    "    ])\n",
    "\n",
    "print(model.summary())"
   ]
  },
  {
   "cell_type": "code",
   "execution_count": null,
   "metadata": {},
   "outputs": [
    {
     "name": "stdout",
     "output_type": "stream",
     "text": [
      "Epoch 1/30\n",
      "1407/1407 [==============================] - 237s 167ms/step - loss: 1.9317 - accuracy: 0.2949 - val_loss: 1.5764 - val_accuracy: 0.4274\n",
      "Epoch 2/30\n",
      "1407/1407 [==============================] - 223s 159ms/step - loss: 1.6021 - accuracy: 0.4244 - val_loss: 1.4575 - val_accuracy: 0.4660\n",
      "Epoch 3/30\n",
      "1407/1407 [==============================] - 257s 183ms/step - loss: 1.5117 - accuracy: 0.4544 - val_loss: 1.3640 - val_accuracy: 0.5170\n",
      "Epoch 4/30\n",
      "1407/1407 [==============================] - 262s 186ms/step - loss: 1.4359 - accuracy: 0.4849 - val_loss: 1.3732 - val_accuracy: 0.4974\n",
      "Epoch 5/30\n",
      "1407/1407 [==============================] - 261s 186ms/step - loss: 1.3819 - accuracy: 0.4988 - val_loss: 1.3075 - val_accuracy: 0.5140\n",
      "Epoch 6/30\n",
      "1407/1407 [==============================] - 259s 184ms/step - loss: 1.3380 - accuracy: 0.5198 - val_loss: 1.2860 - val_accuracy: 0.5388\n",
      "Epoch 7/30\n",
      "1407/1407 [==============================] - 257s 183ms/step - loss: 1.3001 - accuracy: 0.5345 - val_loss: 1.2507 - val_accuracy: 0.5488\n",
      "Epoch 8/30\n",
      "1097/1407 [======================>.......] - ETA: 57s - loss: 1.2108 - accuracy: 0.5689"
     ]
    }
   ],
   "source": [
    "model.compile(\n",
    "    loss='categorical_crossentropy',\n",
    "    optimizer=keras.optimizers.Adam(lr=1e-3),\n",
    "    metrics=['accuracy'])\n",
    "\n",
    "results = model.fit(x_train, y_train_one_hot,\n",
    "                    batch_size=32,\n",
    "                    epochs=15,\n",
    "                    verbose=1,\n",
    "                    validation_split=0.1,\n",
    "                    callbacks = [keras.callbacks.ReduceLROnPlateau(factor=0.5, patience=3, verbose=1, min_lr=1e-5)],\n",
    "                    )"
   ]
  },
  {
   "cell_type": "code",
   "execution_count": null,
   "metadata": {},
   "outputs": [],
   "source": [
    "plt.figure(1, (12, 4))\n",
    "plt.subplot(1, 2, 1)\n",
    "plt.plot(results.history['loss'])\n",
    "plt.plot(results.history['val_loss'])\n",
    "plt.ylabel('loss')\n",
    "plt.xlabel('epoch')\n",
    "plt.legend(['train', 'val'], loc='upper right')\n",
    "\n",
    "plt.subplot(1, 2, 2)\n",
    "plt.plot(results.history['accuracy'])\n",
    "plt.plot(results.history['val_accuracy'])\n",
    "plt.ylabel('accuracy')\n",
    "plt.xlabel('epoch')\n",
    "plt.legend(['train', 'val'], loc='upper left')\n",
    "plt.tight_layout()"
   ]
  },
  {
   "cell_type": "markdown",
   "metadata": {},
   "source": [
    "### Plot predictions\n",
    "#### Task\n",
    "Investigate the predictions of the trained model."
   ]
  },
  {
   "cell_type": "code",
   "execution_count": null,
   "metadata": {},
   "outputs": [],
   "source": [
    "def plot_prediction(X, Y, Y_predict, fname=False):\n",
    "    \"\"\"\n",
    "    Plot image X along with predicted probabilities Y_predict.\n",
    "    X: CIFAR image, shape = (32, 32, 3)\n",
    "    Y: CIFAR label, one-hot encoded, shape = (10)\n",
    "    Y_predict: predicted probabilities, shape = (10)\n",
    "    \"\"\"\n",
    "    X = 128 * X + 128\n",
    "    labels = np.array(['airplane', 'automobile', 'bird', 'cat', 'deer',\n",
    "                       'dog', 'frog', 'horse', 'ship', 'truck'])\n",
    "\n",
    "    fig, (ax1, ax2) = plt.subplots(1, 2, figsize=(8, 4))\n",
    "\n",
    "    # plot image\n",
    "    ax1.imshow(X.astype('uint8'), origin='upper')\n",
    "    ax1.set(xticks=[], yticks=[])\n",
    "\n",
    "    # plot probabilities\n",
    "    ax2.barh(np.arange(10), Y_predict, align='center')\n",
    "    ax2.set(xlim=(0, 1), xlabel='Score', yticks=[])\n",
    "\n",
    "    for i in range(10):\n",
    "        c = 'red' if (i == np.argmax(Y)) else 'black'\n",
    "        ax2.text(0.05, i, labels[i].capitalize(), ha='left', va='center', color=c)"
   ]
  },
  {
   "cell_type": "code",
   "execution_count": null,
   "metadata": {},
   "outputs": [],
   "source": []
  },
  {
   "cell_type": "markdown",
   "metadata": {},
   "source": [
    "### Plot confusion matrix\n",
    "#### Task\n",
    "Plot the confusion matrix and comment on your findings"
   ]
  },
  {
   "cell_type": "code",
   "execution_count": null,
   "metadata": {},
   "outputs": [],
   "source": []
  },
  {
   "cell_type": "markdown",
   "metadata": {},
   "source": [
    "### Plot filter weights of the first layer\n",
    "#### Task\n",
    "Visualize the filters in the first convolutional layer of your CNN."
   ]
  },
  {
   "cell_type": "code",
   "execution_count": null,
   "metadata": {},
   "outputs": [],
   "source": []
  },
  {
   "cell_type": "markdown",
   "metadata": {},
   "source": [
    "### Plot activations in convolutional layers\n",
    "#### Task\n",
    "Visualize the activations in the first two layers of your network for two input images of choice and describe what you see."
   ]
  },
  {
   "cell_type": "code",
   "execution_count": null,
   "metadata": {},
   "outputs": [],
   "source": []
  }
 ],
 "metadata": {
  "kernelspec": {
   "display_name": "Python 3",
   "language": "python",
   "name": "python3"
  },
  "language_info": {
   "codemirror_mode": {
    "name": "ipython",
    "version": 3
   },
   "file_extension": ".py",
   "mimetype": "text/x-python",
   "name": "python",
   "nbconvert_exporter": "python",
   "pygments_lexer": "ipython3",
   "version": "3.6.9"
  }
 },
 "nbformat": 4,
 "nbformat_minor": 4
}
