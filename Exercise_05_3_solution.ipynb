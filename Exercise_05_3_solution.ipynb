{
 "cells": [
  {
   "cell_type": "markdown",
   "metadata": {
    "id": "WSW9BmePM7zZ"
   },
   "source": [
    "# Exercise 5.3: Neural Networks in Keras - Solution"
   ]
  },
  {
   "cell_type": "code",
   "execution_count": 1,
   "metadata": {
    "id": "t02FemO-M7za"
   },
   "outputs": [],
   "source": [
    "import numpy as np\n",
    "import matplotlib.pyplot as plt\n",
    "\n",
    "# See https://keras.io/\n",
    "# for extennsive documentation\n",
    "import tensorflow as tf\n",
    "from tensorflow import keras\n",
    "\n",
    "from keras.models import Sequential\n",
    "from keras.layers import Dense"
   ]
  },
  {
   "cell_type": "markdown",
   "metadata": {
    "id": "IrvyHKHTM7ze"
   },
   "source": [
    "Let us visit the problem of wine quality prediction previously encountered in Exercises 3.2 and 4.1 one final time. After linear regression and a self-made network, we can now explore the comfort provided by the Keras library."
   ]
  },
  {
   "cell_type": "code",
   "execution_count": 2,
   "metadata": {
    "colab": {
     "base_uri": "https://localhost:8080/"
    },
    "id": "-H-L5egsM7ze",
    "outputId": "82d3f95f-59b1-43e3-e8d7-4d939ea7eec6"
   },
   "outputs": [
    {
     "name": "stdout",
     "output_type": "stream",
     "text": [
      "/bin/sh: wget: command not found\r\n"
     ]
    }
   ],
   "source": [
    "# The code snippet below is responsible for downloading the dataset to\n",
    "# Google. You can directly download the file using the link\n",
    "# if you work with a local anaconda setup\n",
    "!wget https://archive.ics.uci.edu/ml/machine-learning-databases/wine-quality/winequality-white.csv"
   ]
  },
  {
   "cell_type": "code",
   "execution_count": 3,
   "metadata": {
    "colab": {
     "base_uri": "https://localhost:8080/"
    },
    "id": "mDToshKJNWGY",
    "outputId": "8cce4ba8-392b-43a1-d659-26aa95d21113"
   },
   "outputs": [
    {
     "name": "stdout",
     "output_type": "stream",
     "text": [
      "data: (4898, 12)\n",
      "First example:\n",
      "Features: [7.0000e+00 3.1000e-01 3.5000e-01 1.6000e+00 6.3000e-02 1.3000e+01\n",
      " 1.1900e+02 9.9184e-01 3.2200e+00 5.0000e-01 1.0700e+01]\n",
      "Quality: 5.0\n"
     ]
    }
   ],
   "source": [
    "# load all examples from the file\n",
    "data = np.genfromtxt('winequality-white.csv',delimiter=\";\",skip_header=1)\n",
    "\n",
    "print(\"data:\", data.shape)\n",
    "\n",
    "# Prepare for proper training\n",
    "np.random.shuffle(data) # randomly sort examples\n",
    "\n",
    "# take the first 3000 examples for training\n",
    "X_train = data[:3000,:11] # all features except last column\n",
    "y_train = data[:3000,11]  # quality column\n",
    "\n",
    "# and the remaining examples for testing\n",
    "X_test = data[3000:,:11] # all features except last column\n",
    "y_test = data[3000:,11] # quality column\n",
    "\n",
    "print(\"First example:\")\n",
    "print(\"Features:\", X_train[0])\n",
    "print(\"Quality:\", y_train[0])\n"
   ]
  },
  {
   "cell_type": "markdown",
   "metadata": {
    "id": "VXx8BXB_M7zi"
   },
   "source": [
    "Below is the simple network from exercise 4.1 implemented using Keras. In addition to the network we define the loss function and optimiser."
   ]
  },
  {
   "cell_type": "code",
   "execution_count": 24,
   "metadata": {
    "id": "Z0HMdw9eM7zi"
   },
   "outputs": [],
   "source": [
    "# See: https://keras.io/api/models/sequential/ and \n",
    "# https://keras.io/api/layers/core_layers/dense/\n",
    "# We can use the Sequential class to very easiliy\n",
    "# build a simple architecture\n",
    "model = Sequential()\n",
    "# 11 inputs, 20 outputs, relu\n",
    "model.add(Dense(20, input_dim=11, activation='relu')) \n",
    "model.add(Dense(20, activation='relu')) \n",
    "model.add(Dense(20, activation='relu')) \n",
    "# 20 inputs (automatically detected by Keras), 1 output, linear activation\n",
    "model.add(Dense(1, activation='linear'))\n",
    "\n",
    "\n",
    "# Set loss function and optimiser algorithm\n",
    "# Remove comments from of these versions:\n",
    "\n",
    "# Initial:\n",
    "#model.compile(loss='mse',  # mean squared error\n",
    "#              optimizer='sgd'# stochastic gradient descent\n",
    "#             ) \n",
    "#\n",
    "# sgd with mometum\n",
    "# instead of passing a string, we can explicitely construct the optimizer object\n",
    "# this gives us more control over its properties\n",
    "#opt = keras.optimizers.SGD(momentum=0.8) \n",
    "#model.compile(loss='mse',  # mean squared error\n",
    "#              optimizer='sgd'\n",
    "#             ) \n",
    "#\n",
    "# Adam:\n",
    "opt = keras.optimizers.Adam(learning_rate=0.0005) \n",
    "model.compile(loss='mse',  # mean squared error\n",
    "              optimizer=opt\n",
    "             ) \n",
    "\n",
    "\n"
   ]
  },
  {
   "cell_type": "markdown",
   "metadata": {
    "id": "I98jdZcqM7zm"
   },
   "source": [
    "# Training and evaluation below\n",
    "\n",
    "The code below trains the network for 5 epochs using the loss function and optimiser defined above. Each example is individually passed to the network"
   ]
  },
  {
   "cell_type": "code",
   "execution_count": 25,
   "metadata": {},
   "outputs": [
    {
     "name": "stdout",
     "output_type": "stream",
     "text": [
      "Epoch 1/70\n",
      "300/300 [==============================] - 1s 2ms/step - loss: 46.4118 - val_loss: 3.1073\n",
      "Epoch 2/70\n",
      "300/300 [==============================] - 0s 1ms/step - loss: 2.7097 - val_loss: 2.1891\n",
      "Epoch 3/70\n",
      "300/300 [==============================] - 0s 1ms/step - loss: 1.9155 - val_loss: 0.9903\n",
      "Epoch 4/70\n",
      "300/300 [==============================] - 0s 1ms/step - loss: 0.8393 - val_loss: 0.7024\n",
      "Epoch 5/70\n",
      "300/300 [==============================] - 0s 1ms/step - loss: 0.6665 - val_loss: 0.6581\n",
      "Epoch 6/70\n",
      "300/300 [==============================] - 0s 1ms/step - loss: 0.7041 - val_loss: 0.6317\n",
      "Epoch 7/70\n",
      "300/300 [==============================] - 0s 1ms/step - loss: 0.6754 - val_loss: 0.6689\n",
      "Epoch 8/70\n",
      "300/300 [==============================] - 0s 1ms/step - loss: 0.6605 - val_loss: 0.6133\n",
      "Epoch 9/70\n",
      "300/300 [==============================] - 0s 1ms/step - loss: 0.6512 - val_loss: 0.6183\n",
      "Epoch 10/70\n",
      "300/300 [==============================] - 0s 1ms/step - loss: 0.6678 - val_loss: 0.6162\n",
      "Epoch 11/70\n",
      "300/300 [==============================] - 0s 1ms/step - loss: 0.6542 - val_loss: 0.5944\n",
      "Epoch 12/70\n",
      "300/300 [==============================] - 0s 1ms/step - loss: 0.6498 - val_loss: 0.6002\n",
      "Epoch 13/70\n",
      "300/300 [==============================] - 0s 1ms/step - loss: 0.6381 - val_loss: 0.5874\n",
      "Epoch 14/70\n",
      "300/300 [==============================] - 0s 1ms/step - loss: 0.6452 - val_loss: 0.6921\n",
      "Epoch 15/70\n",
      "300/300 [==============================] - 0s 1ms/step - loss: 0.6827 - val_loss: 0.6189\n",
      "Epoch 16/70\n",
      "300/300 [==============================] - 0s 1ms/step - loss: 0.5984 - val_loss: 0.7090\n",
      "Epoch 17/70\n",
      "300/300 [==============================] - 0s 1ms/step - loss: 0.6073 - val_loss: 0.5954\n",
      "Epoch 18/70\n",
      "300/300 [==============================] - 0s 1ms/step - loss: 0.6351 - val_loss: 0.6501\n",
      "Epoch 19/70\n",
      "300/300 [==============================] - 0s 1ms/step - loss: 0.6004 - val_loss: 0.5765\n",
      "Epoch 20/70\n",
      "300/300 [==============================] - 0s 1ms/step - loss: 0.6296 - val_loss: 0.5682\n",
      "Epoch 21/70\n",
      "300/300 [==============================] - 0s 1ms/step - loss: 0.6307 - val_loss: 0.5854\n",
      "Epoch 22/70\n",
      "300/300 [==============================] - 0s 1ms/step - loss: 0.6311 - val_loss: 0.6989\n",
      "Epoch 23/70\n",
      "300/300 [==============================] - 0s 1ms/step - loss: 0.5797 - val_loss: 0.6385\n",
      "Epoch 24/70\n",
      "300/300 [==============================] - 0s 1ms/step - loss: 0.6446 - val_loss: 0.5486\n",
      "Epoch 25/70\n",
      "300/300 [==============================] - 0s 1ms/step - loss: 0.6366 - val_loss: 0.5558\n",
      "Epoch 26/70\n",
      "300/300 [==============================] - 0s 1ms/step - loss: 0.6019 - val_loss: 0.5446\n",
      "Epoch 27/70\n",
      "300/300 [==============================] - 0s 1ms/step - loss: 0.6299 - val_loss: 0.5682\n",
      "Epoch 28/70\n",
      "300/300 [==============================] - 0s 1ms/step - loss: 0.5982 - val_loss: 0.5423\n",
      "Epoch 29/70\n",
      "300/300 [==============================] - 0s 1ms/step - loss: 0.5921 - val_loss: 0.5433\n",
      "Epoch 30/70\n",
      "300/300 [==============================] - 0s 1ms/step - loss: 0.5791 - val_loss: 0.5554\n",
      "Epoch 31/70\n",
      "300/300 [==============================] - 0s 1ms/step - loss: 0.5792 - val_loss: 0.6534\n",
      "Epoch 32/70\n",
      "300/300 [==============================] - 0s 1ms/step - loss: 0.5904 - val_loss: 0.5771\n",
      "Epoch 33/70\n",
      "300/300 [==============================] - 0s 1ms/step - loss: 0.5871 - val_loss: 0.5595\n",
      "Epoch 34/70\n",
      "300/300 [==============================] - 0s 1ms/step - loss: 0.5635 - val_loss: 0.5373\n",
      "Epoch 35/70\n",
      "300/300 [==============================] - 0s 1ms/step - loss: 0.6022 - val_loss: 0.7051\n",
      "Epoch 36/70\n",
      "300/300 [==============================] - 0s 1ms/step - loss: 0.5985 - val_loss: 0.5677\n",
      "Epoch 37/70\n",
      "300/300 [==============================] - 0s 1ms/step - loss: 0.5580 - val_loss: 0.5455\n",
      "Epoch 38/70\n",
      "300/300 [==============================] - 0s 1ms/step - loss: 0.6386 - val_loss: 0.5383\n",
      "Epoch 39/70\n",
      "300/300 [==============================] - 0s 1ms/step - loss: 0.6253 - val_loss: 0.6117\n",
      "Epoch 40/70\n",
      "300/300 [==============================] - 0s 1ms/step - loss: 0.5911 - val_loss: 0.5612\n",
      "Epoch 41/70\n",
      "300/300 [==============================] - 0s 1ms/step - loss: 0.5735 - val_loss: 0.5583\n",
      "Epoch 42/70\n",
      "300/300 [==============================] - 0s 1ms/step - loss: 0.5878 - val_loss: 0.5711\n",
      "Epoch 43/70\n",
      "300/300 [==============================] - 0s 1ms/step - loss: 0.5955 - val_loss: 0.5366\n",
      "Epoch 44/70\n",
      "300/300 [==============================] - 0s 1ms/step - loss: 0.5770 - val_loss: 0.5332\n",
      "Epoch 45/70\n",
      "300/300 [==============================] - 0s 1ms/step - loss: 0.5794 - val_loss: 0.5375\n",
      "Epoch 46/70\n",
      "300/300 [==============================] - 0s 1ms/step - loss: 0.6078 - val_loss: 0.5349\n",
      "Epoch 47/70\n",
      "300/300 [==============================] - 0s 1ms/step - loss: 0.5853 - val_loss: 0.5300\n",
      "Epoch 48/70\n",
      "300/300 [==============================] - 0s 1ms/step - loss: 0.6130 - val_loss: 0.5279\n",
      "Epoch 49/70\n",
      "300/300 [==============================] - 0s 1ms/step - loss: 0.5680 - val_loss: 0.7001\n",
      "Epoch 50/70\n",
      "300/300 [==============================] - 0s 1ms/step - loss: 0.5703 - val_loss: 0.6029\n",
      "Epoch 51/70\n",
      "300/300 [==============================] - 0s 1ms/step - loss: 0.6161 - val_loss: 0.5407\n",
      "Epoch 52/70\n",
      "300/300 [==============================] - 0s 1ms/step - loss: 0.5793 - val_loss: 0.5336\n",
      "Epoch 53/70\n",
      "300/300 [==============================] - 0s 1ms/step - loss: 0.5859 - val_loss: 0.5460\n",
      "Epoch 54/70\n",
      "300/300 [==============================] - 0s 1ms/step - loss: 0.5511 - val_loss: 0.5384\n",
      "Epoch 55/70\n",
      "300/300 [==============================] - 0s 1ms/step - loss: 0.5948 - val_loss: 0.5303\n",
      "Epoch 56/70\n",
      "300/300 [==============================] - 0s 1ms/step - loss: 0.5912 - val_loss: 0.5345\n",
      "Epoch 57/70\n",
      "300/300 [==============================] - 0s 1ms/step - loss: 0.5816 - val_loss: 0.5278\n",
      "Epoch 58/70\n",
      "300/300 [==============================] - 0s 1ms/step - loss: 0.5890 - val_loss: 0.5268\n",
      "Epoch 59/70\n",
      "300/300 [==============================] - 0s 1ms/step - loss: 0.5852 - val_loss: 0.5261\n",
      "Epoch 60/70\n",
      "300/300 [==============================] - 0s 1ms/step - loss: 0.5851 - val_loss: 0.5566\n",
      "Epoch 61/70\n",
      "300/300 [==============================] - 0s 1ms/step - loss: 0.6098 - val_loss: 0.5239\n",
      "Epoch 62/70\n",
      "300/300 [==============================] - 0s 1ms/step - loss: 0.5671 - val_loss: 0.5541\n",
      "Epoch 63/70\n",
      "300/300 [==============================] - 0s 1ms/step - loss: 0.5868 - val_loss: 0.5280\n",
      "Epoch 64/70\n",
      "300/300 [==============================] - 0s 1ms/step - loss: 0.5735 - val_loss: 0.5238\n",
      "Epoch 65/70\n",
      "300/300 [==============================] - 0s 1ms/step - loss: 0.5701 - val_loss: 0.5417\n",
      "Epoch 66/70\n",
      "300/300 [==============================] - 0s 1ms/step - loss: 0.5502 - val_loss: 0.5333\n",
      "Epoch 67/70\n",
      "300/300 [==============================] - 0s 1ms/step - loss: 0.5938 - val_loss: 0.5467\n",
      "Epoch 68/70\n",
      "300/300 [==============================] - 0s 1ms/step - loss: 0.5668 - val_loss: 0.5323\n",
      "Epoch 69/70\n",
      "300/300 [==============================] - 0s 1ms/step - loss: 0.5883 - val_loss: 0.5417\n",
      "Epoch 70/70\n",
      "300/300 [==============================] - 0s 1ms/step - loss: 0.5458 - val_loss: 0.5390\n"
     ]
    }
   ],
   "source": [
    "history = model.fit(X_train, y_train, \n",
    "                    validation_data=(X_test, y_test),\n",
    "                    epochs=70, batch_size=10) # changed batch size to 10 \n"
   ]
  },
  {
   "cell_type": "code",
   "execution_count": 26,
   "metadata": {},
   "outputs": [],
   "source": [
    "# The history object returned by the model training above \n",
    "# contains the values of the loss function (the mean-squared-error)\n",
    "# at different epochs\n",
    "# We discard the first epoch as the loss value is very high,\n",
    "# obscuring the rest of the distribution\n",
    "train_loss = history.history[\"loss\"][1:]\n",
    "test_loss = history.history[\"val_loss\"][1:]"
   ]
  },
  {
   "cell_type": "code",
   "execution_count": 27,
   "metadata": {},
   "outputs": [
    {
     "data": {
      "image/png": "[encoded data removed]",
      "text/plain": [
       "<Figure size 432x288 with 1 Axes>"
      ]
     },
     "metadata": {
      "needs_background": "light"
     },
     "output_type": "display_data"
    }
   ],
   "source": [
    "# Prepare and plot loss over time\n",
    "plt.plot(train_loss,label=\"train\")\n",
    "plt.plot(test_loss,label=\"test\")\n",
    "plt.legend()\n",
    "plt.xlabel(\"Epoch-1\")\n",
    "plt.ylabel(\"Loss\")\n",
    "plt.show()"
   ]
  },
  {
   "cell_type": "code",
   "execution_count": 28,
   "metadata": {},
   "outputs": [
    {
     "name": "stdout",
     "output_type": "stream",
     "text": [
      "Correlation coefficient: 0.5500396765061618\n"
     ]
    },
    {
     "data": {
      "image/png": "[encoded data removed]",
      "text/plain": [
       "<Figure size 432x288 with 1 Axes>"
      ]
     },
     "metadata": {
      "needs_background": "light"
     },
     "output_type": "display_data"
    }
   ],
   "source": [
    "# After the training:\n",
    "\n",
    "# Prepare scatter plot\n",
    "y_pred = model.predict(X_test)[:,0]\n",
    "\n",
    "print(\"Correlation coefficient:\", np.corrcoef(y_pred,y_test)[0,1])\n",
    "plt.scatter(y_pred,y_test)\n",
    "plt.xlabel(\"Predicted\")\n",
    "plt.ylabel(\"True\")\n",
    "plt.show()"
   ]
  }
 ],
 "metadata": {
  "colab": {
   "collapsed_sections": [],
   "name": "Exercise 6 - Solution",
   "provenance": []
  },
  "kernelspec": {
   "display_name": "Python 3",
   "language": "python",
   "name": "python3"
  },
  "language_info": {
   "codemirror_mode": {
    "name": "ipython",
    "version": 3
   },
   "file_extension": ".py",
   "mimetype": "text/x-python",
   "name": "python",
   "nbconvert_exporter": "python",
   "pygments_lexer": "ipython3",
   "version": "3.7.6"
  }
 },
 "nbformat": 4,
 "nbformat_minor": 1
}
