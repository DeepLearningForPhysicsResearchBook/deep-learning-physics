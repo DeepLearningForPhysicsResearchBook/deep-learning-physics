{
 "cells": [
  {
   "cell_type": "markdown",
   "metadata": {},
   "source": [
    "# Exercise 12.3\n",
    "## Discriminative localization  (CAM)\n",
    "In this exercise we will create class activation maps (CAMs) for predictions made by a model trained to classify magentic phases (see [Exercise 7_1](Exercise_7_1_solution.ipynb)).\n",
    " 1. Pick out two correctly and two wrongly classified images classified with a convolutional network.\n",
    " 2. Look at Exercise 8.1 to extract weights and feature maps from the trained network model.\n",
    " 3. Create and plot the class activation maps and compare them with the images in order to see which regions lead to the prediction.\n"
   ]
  },
  {
   "cell_type": "code",
   "execution_count": 10,
   "metadata": {},
   "outputs": [
    {
     "name": "stdout",
     "output_type": "stream",
     "text": [
      "keras 2.4.0\n"
     ]
    }
   ],
   "source": [
    "from tensorflow import keras\n",
    "import numpy as np\n",
    "callbacks = keras.callbacks\n",
    "layers = keras.layers\n",
    "\n",
    "print(\"keras\", keras.__version__)"
   ]
  },
  {
   "cell_type": "markdown",
   "metadata": {},
   "source": [
    "### Load and prepare dataset\n",
    "See https://doi.org/10.1038/nphys4035 for more information"
   ]
  },
  {
   "cell_type": "code",
   "execution_count": 11,
   "metadata": {},
   "outputs": [],
   "source": [
    "import gdown\n",
    "url = \"https://drive.google.com/u/0/uc?export=download&confirm=HgGH&id=1Ihxt1hb3Kyv0IrjHlsYb9x9QY7l7n2Sl\"\n",
    "output = 'ising_data.npz'\n",
    "gdown.download(url, output, quiet=True)\n",
    "\n",
    "f = np.load(output)\n",
    "n_train = 20000\n",
    "\n",
    "x_train, x_test = f[\"C\"][:n_train], f[\"C\"][n_train:]\n",
    "T_train, T_test = f[\"T\"][:n_train], f[\"T\"][n_train:]\n",
    "\n",
    "Tc = 2.27\n",
    "y_train = np.zeros_like(T_train)\n",
    "y_train[T_train > Tc] = 1\n",
    "y_train = keras.utils.to_categorical(y_train, 2)\n",
    "\n",
    "y_test = np.zeros_like(T_test)\n",
    "y_test[T_test > Tc] = 1\n",
    "y_test = keras.utils.to_categorical(y_test, 2)"
   ]
  },
  {
   "cell_type": "markdown",
   "metadata": {},
   "source": [
    "### Plot data"
   ]
  },
  {
   "cell_type": "code",
   "execution_count": 12,
   "metadata": {},
   "outputs": [
    {
     "data": {
      "image/png": "[encoded data removed]",
      "text/plain": [
       "<Figure size 432x288 with 6 Axes>"
      ]
     },
     "metadata": {
      "needs_background": "light"
     },
     "output_type": "display_data"
    }
   ],
   "source": [
    "import matplotlib.pyplot as plt\n",
    "\n",
    "for i,j in enumerate(np.random.choice(n_train, 6)):\n",
    "    plt.subplot(2,3,i+1)\n",
    "    image = x_train[j]\n",
    "    plot = plt.imshow(image)\n",
    "    plt.title(\"T: %.2f\" % T_train[j])\n",
    "\n",
    "plt.tight_layout()\n",
    "plt.show()"
   ]
  },
  {
   "cell_type": "markdown",
   "metadata": {},
   "source": [
    "### Definition of the model\n",
    "\n",
    "Define a CNN for discriminative localization. Note that the CNN must use `GlobalAveragePooling2D` after the convolutional part and must not feature more than a single fully-connected layer as output."
   ]
  },
  {
   "cell_type": "code",
   "execution_count": 13,
   "metadata": {},
   "outputs": [
    {
     "name": "stdout",
     "output_type": "stream",
     "text": [
      "Model: \"sequential_1\"\n",
      "_________________________________________________________________\n",
      "Layer (type)                 Output Shape              Param #   \n",
      "=================================================================\n",
      "reshape_1 (Reshape)          (None, 32, 32, 1)         0         \n",
      "_________________________________________________________________\n",
      "conv2d_4 (Conv2D)            (None, 32, 32, 16)        160       \n",
      "_________________________________________________________________\n",
      "conv2d_5 (Conv2D)            (None, 32, 32, 16)        2320      \n",
      "_________________________________________________________________\n",
      "max_pooling2d_1 (MaxPooling2 (None, 16, 16, 16)        0         \n",
      "_________________________________________________________________\n",
      "conv2d_6 (Conv2D)            (None, 16, 16, 32)        4640      \n",
      "_________________________________________________________________\n",
      "conv2d_7 (Conv2D)            (None, 16, 16, 32)        9248      \n",
      "_________________________________________________________________\n",
      "global_average_pooling2d_1 ( (None, 32)                0         \n",
      "_________________________________________________________________\n",
      "dropout_1 (Dropout)          (None, 32)                0         \n",
      "_________________________________________________________________\n",
      "dense_1 (Dense)              (None, 2)                 66        \n",
      "=================================================================\n",
      "Total params: 16,434\n",
      "Trainable params: 16,434\n",
      "Non-trainable params: 0\n",
      "_________________________________________________________________\n"
     ]
    }
   ],
   "source": [
    "model = keras.models.Sequential()\n",
    "model.add(layers.InputLayer(input_shape=(32, 32)))\n",
    "model.add(layers.Reshape((32, 32,1)))\n",
    "model.add(layers.Convolution2D(16, (3, 3), padding='same', activation='relu'))\n",
    "model.add(layers.Convolution2D(16, (3, 3), padding='same', activation='relu'))\n",
    "model.add(layers.MaxPooling2D((2, 2)))\n",
    "model.add(layers.Convolution2D(32, (3, 3), padding='same', activation='relu'))\n",
    "model.add(layers.Convolution2D(32, (3, 3), padding='same', activation='relu'))\n",
    "model.add(layers.GlobalAveragePooling2D())\n",
    "model.add(layers.Dropout(0.25))\n",
    "model.add(layers.Dense(2, activation='softmax'))\n",
    "\n",
    "model.summary()"
   ]
  },
  {
   "cell_type": "markdown",
   "metadata": {},
   "source": [
    "### prepare model for training"
   ]
  },
  {
   "cell_type": "code",
   "execution_count": 14,
   "metadata": {},
   "outputs": [],
   "source": [
    "model.compile(\n",
    "    loss='binary_crossentropy',\n",
    "    optimizer=keras.optimizers.Adam(0.001),\n",
    "    metrics=['accuracy'])"
   ]
  },
  {
   "cell_type": "code",
   "execution_count": 15,
   "metadata": {},
   "outputs": [
    {
     "name": "stdout",
     "output_type": "stream",
     "text": [
      "Epoch 1/50\n",
      "282/282 - 25s - loss: 0.1008 - accuracy: 0.9608 - val_loss: 0.0535 - val_accuracy: 0.9785\n",
      "Epoch 2/50\n",
      "282/282 - 23s - loss: 0.0487 - accuracy: 0.9796 - val_loss: 0.0388 - val_accuracy: 0.9840\n",
      "Epoch 3/50\n",
      "282/282 - 24s - loss: 0.0475 - accuracy: 0.9796 - val_loss: 0.0438 - val_accuracy: 0.9810\n",
      "Epoch 4/50\n",
      "282/282 - 24s - loss: 0.0470 - accuracy: 0.9802 - val_loss: 0.0365 - val_accuracy: 0.9845\n",
      "Epoch 5/50\n",
      "282/282 - 23s - loss: 0.0468 - accuracy: 0.9812 - val_loss: 0.0379 - val_accuracy: 0.9825\n",
      "Epoch 6/50\n",
      "282/282 - 24s - loss: 0.0436 - accuracy: 0.9817 - val_loss: 0.0443 - val_accuracy: 0.9820\n",
      "\n",
      "Epoch 00006: ReduceLROnPlateau reducing learning rate to 0.0006700000318232924.\n",
      "Epoch 7/50\n",
      "282/282 - 23s - loss: 0.0424 - accuracy: 0.9816 - val_loss: 0.0356 - val_accuracy: 0.9850\n",
      "Epoch 8/50\n",
      "282/282 - 22s - loss: 0.0416 - accuracy: 0.9827 - val_loss: 0.0505 - val_accuracy: 0.9775\n",
      "Epoch 9/50\n",
      "282/282 - 23s - loss: 0.0427 - accuracy: 0.9818 - val_loss: 0.0421 - val_accuracy: 0.9830\n",
      "\n",
      "Epoch 00009: ReduceLROnPlateau reducing learning rate to 0.0004489000252215192.\n",
      "Epoch 10/50\n",
      "282/282 - 26s - loss: 0.0416 - accuracy: 0.9821 - val_loss: 0.0403 - val_accuracy: 0.9810\n",
      "Epoch 11/50\n",
      "282/282 - 24s - loss: 0.0407 - accuracy: 0.9831 - val_loss: 0.0371 - val_accuracy: 0.9855\n",
      "\n",
      "Epoch 00011: ReduceLROnPlateau reducing learning rate to 0.0003007630087086.\n",
      "Epoch 12/50\n",
      "282/282 - 18s - loss: 0.0401 - accuracy: 0.9822 - val_loss: 0.0385 - val_accuracy: 0.9835\n",
      "Epoch 00012: early stopping\n"
     ]
    }
   ],
   "source": [
    "results = model.fit(x_train, y_train,\n",
    "                    batch_size=64,\n",
    "                    epochs=50,\n",
    "                    verbose=2,\n",
    "                    validation_split=0.1,\n",
    "                    callbacks=[\n",
    "                        callbacks.EarlyStopping(patience=5, verbose=1),\n",
    "                        callbacks.ReduceLROnPlateau(factor=0.67, patience=2, verbose=1)]\n",
    "                    )"
   ]
  },
  {
   "cell_type": "markdown",
   "metadata": {},
   "source": [
    "### Evaluate training"
   ]
  },
  {
   "cell_type": "code",
   "execution_count": 16,
   "metadata": {},
   "outputs": [
    {
     "data": {
      "text/plain": [
       "<matplotlib.legend.Legend at 0x7ff10c85ebe0>"
      ]
     },
     "execution_count": 16,
     "metadata": {},
     "output_type": "execute_result"
    },
    {
     "data": {
      "image/png": "[encoded data removed]",
      "text/plain": [
       "<Figure size 864x288 with 1 Axes>"
      ]
     },
     "metadata": {
      "needs_background": "light"
     },
     "output_type": "display_data"
    }
   ],
   "source": [
    "plt.figure(1, (12, 4))\n",
    "plt.subplot(1, 2, 1)\n",
    "plt.plot(results.history['loss'])\n",
    "plt.plot(results.history['val_loss'])\n",
    "plt.ylabel('loss')\n",
    "plt.xlabel('epoch')\n",
    "plt.legend(['train', 'val'], loc='upper right')"
   ]
  },
  {
   "cell_type": "code",
   "execution_count": 17,
   "metadata": {},
   "outputs": [
    {
     "data": {
      "text/plain": [
       "<matplotlib.legend.Legend at 0x7ff1020ad208>"
      ]
     },
     "execution_count": 17,
     "metadata": {},
     "output_type": "execute_result"
    },
    {
     "data": {
      "image/png": "[encoded data removed]",
      "text/plain": [
       "<Figure size 864x288 with 1 Axes>"
      ]
     },
     "metadata": {
      "needs_background": "light"
     },
     "output_type": "display_data"
    }
   ],
   "source": [
    "plt.figure(1, (12, 4))\n",
    "plt.subplot(1, 2, 1)\n",
    "plt.plot(results.history['accuracy'])\n",
    "plt.plot(results.history['val_accuracy'])\n",
    "plt.ylabel('accuracy')\n",
    "plt.xlabel('epoch')\n",
    "plt.legend(['train', 'val'], loc='upper right')"
   ]
  },
  {
   "cell_type": "markdown",
   "metadata": {},
   "source": [
    "## Create class activation maps"
   ]
  },
  {
   "cell_type": "markdown",
   "metadata": {},
   "source": [
    "#### Task\n",
    "Look at Exercise 8.1 to extract weights and feature maps from the trained network model.  \n",
    "\n",
    "First, extract the activations of the last convolutional layer."
   ]
  },
  {
   "cell_type": "code",
   "execution_count": null,
   "metadata": {},
   "outputs": [],
   "source": [
    "conv = model.layers[-4]  # last conv layer"
   ]
  },
  {
   "cell_type": "markdown",
   "metadata": {},
   "source": [
    "Then, create the class activation maps by omitting the global average pooling operation and applying the weights of the single classification layer to the extracted activations."
   ]
  },
  {
   "cell_type": "code",
   "execution_count": null,
   "metadata": {},
   "outputs": [],
   "source": []
  },
  {
   "cell_type": "markdown",
   "metadata": {},
   "source": [
    "### Plot the class activation maps for examples just below and above the critical temperature"
   ]
  },
  {
   "cell_type": "markdown",
   "metadata": {},
   "source": [
    "#### Task\n",
    "Plot the CAMs for wrongly and correctly classified images.  \n",
    "\n",
    "Note, you can use `interpolation='bilinear` in `plt.imshow` to upsample the CAMs."
   ]
  },
  {
   "cell_type": "code",
   "execution_count": null,
   "metadata": {},
   "outputs": [],
   "source": []
  }
 ],
 "metadata": {
  "kernelspec": {
   "display_name": "Python 3",
   "language": "python",
   "name": "python3"
  },
  "language_info": {
   "codemirror_mode": {
    "name": "ipython",
    "version": 3
   },
   "file_extension": ".py",
   "mimetype": "text/x-python",
   "name": "python",
   "nbconvert_exporter": "python",
   "pygments_lexer": "ipython3",
   "version": "3.6.9"
  }
 },
 "nbformat": 4,
 "nbformat_minor": 4
}
